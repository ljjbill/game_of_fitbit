{
 "cells": [
  {
   "cell_type": "code",
   "execution_count": 1,
   "metadata": {},
   "outputs": [],
   "source": [
    "from matplotlib import pyplot as plt\n",
    "from sklearn.model_selection import train_test_split, GridSearchCV\n",
    "from sklearn.metrics import r2_score, make_scorer\n",
    "from sklearn.preprocessing import StandardScaler\n",
    "from scipy import stats\n",
    "import numpy as np\n",
    "import pandas as pd\n",
    "import math\n",
    "import os\n",
    "from sklearn.svm import SVR\n",
    "import pickle"
   ]
  },
  {
   "cell_type": "code",
   "execution_count": 2,
   "metadata": {},
   "outputs": [],
   "source": [
    "def rmse(y1, y2):\n",
    "    ss = 0\n",
    "    for x1, x2 in zip(y1, y2):\n",
    "        x1 = float(x1)\n",
    "        x2 = float(x2)\n",
    "        ss += pow((x1 - x2), 2)\n",
    "        \n",
    "    m = ss / len(y1)\n",
    "    return math.sqrt(m)"
   ]
  },
  {
   "cell_type": "code",
   "execution_count": 31,
   "metadata": {},
   "outputs": [
    {
     "data": {
      "text/html": [
       "<div>\n",
       "<style scoped>\n",
       "    .dataframe tbody tr th:only-of-type {\n",
       "        vertical-align: middle;\n",
       "    }\n",
       "\n",
       "    .dataframe tbody tr th {\n",
       "        vertical-align: top;\n",
       "    }\n",
       "\n",
       "    .dataframe thead th {\n",
       "        text-align: right;\n",
       "    }\n",
       "</style>\n",
       "<table border=\"1\" class=\"dataframe\">\n",
       "  <thead>\n",
       "    <tr style=\"text-align: right;\">\n",
       "      <th></th>\n",
       "      <th>Id</th>\n",
       "      <th>ActivityDate</th>\n",
       "      <th>TotalSteps</th>\n",
       "      <th>TotalDistance</th>\n",
       "      <th>TrackerDistance</th>\n",
       "      <th>LoggedActivitiesDistance</th>\n",
       "      <th>VeryActiveDistance</th>\n",
       "      <th>ModeratelyActiveDistance</th>\n",
       "      <th>LightActiveDistance</th>\n",
       "      <th>SedentaryActiveDistance</th>\n",
       "      <th>VeryActiveMinutes</th>\n",
       "      <th>FairlyActiveMinutes</th>\n",
       "      <th>LightlyActiveMinutes</th>\n",
       "      <th>SedentaryMinutes</th>\n",
       "      <th>Calories</th>\n",
       "      <th>TotalTimeinBed</th>\n",
       "      <th>TotalMinutesAssleep</th>\n",
       "      <th>TotalSleepRecords</th>\n",
       "      <th>TotalMinutesAsleep</th>\n",
       "      <th>TotalTimeInBed</th>\n",
       "    </tr>\n",
       "  </thead>\n",
       "  <tbody>\n",
       "    <tr>\n",
       "      <th>0</th>\n",
       "      <td>1503960366</td>\n",
       "      <td>3/25/2016</td>\n",
       "      <td>11004</td>\n",
       "      <td>7.11</td>\n",
       "      <td>7.11</td>\n",
       "      <td>0.0</td>\n",
       "      <td>2.57</td>\n",
       "      <td>0.46</td>\n",
       "      <td>4.07</td>\n",
       "      <td>0.0</td>\n",
       "      <td>33</td>\n",
       "      <td>12</td>\n",
       "      <td>205</td>\n",
       "      <td>804</td>\n",
       "      <td>1819</td>\n",
       "      <td>NaN</td>\n",
       "      <td>NaN</td>\n",
       "      <td>NaN</td>\n",
       "      <td>NaN</td>\n",
       "      <td>NaN</td>\n",
       "    </tr>\n",
       "    <tr>\n",
       "      <th>1</th>\n",
       "      <td>1503960366</td>\n",
       "      <td>3/26/2016</td>\n",
       "      <td>17609</td>\n",
       "      <td>11.55</td>\n",
       "      <td>11.55</td>\n",
       "      <td>0.0</td>\n",
       "      <td>6.92</td>\n",
       "      <td>0.73</td>\n",
       "      <td>3.91</td>\n",
       "      <td>0.0</td>\n",
       "      <td>89</td>\n",
       "      <td>17</td>\n",
       "      <td>274</td>\n",
       "      <td>588</td>\n",
       "      <td>2154</td>\n",
       "      <td>NaN</td>\n",
       "      <td>NaN</td>\n",
       "      <td>NaN</td>\n",
       "      <td>NaN</td>\n",
       "      <td>NaN</td>\n",
       "    </tr>\n",
       "    <tr>\n",
       "      <th>2</th>\n",
       "      <td>1503960366</td>\n",
       "      <td>3/27/2016</td>\n",
       "      <td>12736</td>\n",
       "      <td>8.53</td>\n",
       "      <td>8.53</td>\n",
       "      <td>0.0</td>\n",
       "      <td>4.66</td>\n",
       "      <td>0.16</td>\n",
       "      <td>3.71</td>\n",
       "      <td>0.0</td>\n",
       "      <td>56</td>\n",
       "      <td>5</td>\n",
       "      <td>268</td>\n",
       "      <td>605</td>\n",
       "      <td>1944</td>\n",
       "      <td>NaN</td>\n",
       "      <td>NaN</td>\n",
       "      <td>NaN</td>\n",
       "      <td>NaN</td>\n",
       "      <td>NaN</td>\n",
       "    </tr>\n",
       "    <tr>\n",
       "      <th>3</th>\n",
       "      <td>1503960366</td>\n",
       "      <td>3/28/2016</td>\n",
       "      <td>13231</td>\n",
       "      <td>8.93</td>\n",
       "      <td>8.93</td>\n",
       "      <td>0.0</td>\n",
       "      <td>3.19</td>\n",
       "      <td>0.79</td>\n",
       "      <td>4.95</td>\n",
       "      <td>0.0</td>\n",
       "      <td>39</td>\n",
       "      <td>20</td>\n",
       "      <td>224</td>\n",
       "      <td>1080</td>\n",
       "      <td>1932</td>\n",
       "      <td>NaN</td>\n",
       "      <td>NaN</td>\n",
       "      <td>NaN</td>\n",
       "      <td>NaN</td>\n",
       "      <td>NaN</td>\n",
       "    </tr>\n",
       "    <tr>\n",
       "      <th>4</th>\n",
       "      <td>1503960366</td>\n",
       "      <td>3/29/2016</td>\n",
       "      <td>12041</td>\n",
       "      <td>7.85</td>\n",
       "      <td>7.85</td>\n",
       "      <td>0.0</td>\n",
       "      <td>2.16</td>\n",
       "      <td>1.09</td>\n",
       "      <td>4.61</td>\n",
       "      <td>0.0</td>\n",
       "      <td>28</td>\n",
       "      <td>28</td>\n",
       "      <td>243</td>\n",
       "      <td>763</td>\n",
       "      <td>1886</td>\n",
       "      <td>NaN</td>\n",
       "      <td>NaN</td>\n",
       "      <td>NaN</td>\n",
       "      <td>NaN</td>\n",
       "      <td>NaN</td>\n",
       "    </tr>\n",
       "  </tbody>\n",
       "</table>\n",
       "</div>"
      ],
      "text/plain": [
       "           Id ActivityDate  TotalSteps  TotalDistance  TrackerDistance  \\\n",
       "0  1503960366    3/25/2016       11004           7.11             7.11   \n",
       "1  1503960366    3/26/2016       17609          11.55            11.55   \n",
       "2  1503960366    3/27/2016       12736           8.53             8.53   \n",
       "3  1503960366    3/28/2016       13231           8.93             8.93   \n",
       "4  1503960366    3/29/2016       12041           7.85             7.85   \n",
       "\n",
       "   LoggedActivitiesDistance  VeryActiveDistance  ModeratelyActiveDistance  \\\n",
       "0                       0.0                2.57                      0.46   \n",
       "1                       0.0                6.92                      0.73   \n",
       "2                       0.0                4.66                      0.16   \n",
       "3                       0.0                3.19                      0.79   \n",
       "4                       0.0                2.16                      1.09   \n",
       "\n",
       "   LightActiveDistance  SedentaryActiveDistance  VeryActiveMinutes  \\\n",
       "0                 4.07                      0.0                 33   \n",
       "1                 3.91                      0.0                 89   \n",
       "2                 3.71                      0.0                 56   \n",
       "3                 4.95                      0.0                 39   \n",
       "4                 4.61                      0.0                 28   \n",
       "\n",
       "   FairlyActiveMinutes  LightlyActiveMinutes  SedentaryMinutes  Calories  \\\n",
       "0                   12                   205               804      1819   \n",
       "1                   17                   274               588      2154   \n",
       "2                    5                   268               605      1944   \n",
       "3                   20                   224              1080      1932   \n",
       "4                   28                   243               763      1886   \n",
       "\n",
       "   TotalTimeinBed  TotalMinutesAssleep  TotalSleepRecords  TotalMinutesAsleep  \\\n",
       "0             NaN                  NaN                NaN                 NaN   \n",
       "1             NaN                  NaN                NaN                 NaN   \n",
       "2             NaN                  NaN                NaN                 NaN   \n",
       "3             NaN                  NaN                NaN                 NaN   \n",
       "4             NaN                  NaN                NaN                 NaN   \n",
       "\n",
       "   TotalTimeInBed  \n",
       "0             NaN  \n",
       "1             NaN  \n",
       "2             NaN  \n",
       "3             NaN  \n",
       "4             NaN  "
      ]
     },
     "execution_count": 31,
     "metadata": {},
     "output_type": "execute_result"
    }
   ],
   "source": [
    "#Import data from data source \n",
    "data_fitbit =\"dailyActivity.csv\"\n",
    "data_sleeping = \"sleepDay_merged.csv\"\n",
    "\n",
    "fitbit_analysis = pd.read_csv(data_fitbit)\n",
    "sleep_data =pd.read_csv(data_sleeping)\n",
    "#sleep_data.head()\n",
    "# Combine the data into a single dataset\n",
    "to_model_data = pd.merge(fitbit_analysis,sleep_data, on=[\"Id\", 'ActivityDate'], how='outer')\n",
    "to_model_data.head()\n",
    "\n",
    "\n",
    "#to_model_data = fitbit_analysis.join(sleep_data, on=['Id', 'ActivityDate'])\n",
    "#to_model_data = sleep_data.join( fitbit_analysis, on=['Id', 'ActivityDate'])"
   ]
  },
  {
   "cell_type": "code",
   "execution_count": 32,
   "metadata": {},
   "outputs": [
    {
     "data": {
      "text/plain": [
       "1400"
      ]
     },
     "execution_count": 32,
     "metadata": {},
     "output_type": "execute_result"
    }
   ],
   "source": [
    "len(to_model_data)"
   ]
  },
  {
   "cell_type": "code",
   "execution_count": 33,
   "metadata": {},
   "outputs": [
    {
     "data": {
      "text/plain": [
       "Index(['Id', 'ActivityDate', 'TotalSteps', 'TotalDistance', 'TrackerDistance',\n",
       "       'LoggedActivitiesDistance', 'VeryActiveDistance',\n",
       "       'ModeratelyActiveDistance', 'LightActiveDistance',\n",
       "       'SedentaryActiveDistance', 'VeryActiveMinutes', 'FairlyActiveMinutes',\n",
       "       'LightlyActiveMinutes', 'SedentaryMinutes', 'Calories',\n",
       "       'TotalTimeinBed', 'TotalMinutesAssleep', 'TotalSleepRecords',\n",
       "       'TotalMinutesAsleep', 'TotalTimeInBed'],\n",
       "      dtype='object')"
      ]
     },
     "execution_count": 33,
     "metadata": {},
     "output_type": "execute_result"
    }
   ],
   "source": [
    "to_model_data.columns"
   ]
  },
  {
   "cell_type": "code",
   "execution_count": 34,
   "metadata": {},
   "outputs": [],
   "source": [
    "to_model_data.to_csv('test.csv', index='false')"
   ]
  },
  {
   "cell_type": "code",
   "execution_count": 35,
   "metadata": {},
   "outputs": [],
   "source": [
    "data = to_model_data.drop(columns = ['TotalDistance', 'TotalTimeinBed', 'TotalMinutesAssleep', 'TotalSleepRecords', 'TotalMinutesAsleep', 'TotalTimeInBed'])"
   ]
  },
  {
   "cell_type": "code",
   "execution_count": 36,
   "metadata": {},
   "outputs": [
    {
     "data": {
      "text/plain": [
       "Index(['Id', 'ActivityDate', 'TotalSteps', 'TrackerDistance',\n",
       "       'LoggedActivitiesDistance', 'VeryActiveDistance',\n",
       "       'ModeratelyActiveDistance', 'LightActiveDistance',\n",
       "       'SedentaryActiveDistance', 'VeryActiveMinutes', 'FairlyActiveMinutes',\n",
       "       'LightlyActiveMinutes', 'SedentaryMinutes', 'Calories'],\n",
       "      dtype='object')"
      ]
     },
     "execution_count": 36,
     "metadata": {},
     "output_type": "execute_result"
    }
   ],
   "source": [
    "data.columns"
   ]
  },
  {
   "cell_type": "code",
   "execution_count": 37,
   "metadata": {},
   "outputs": [],
   "source": [
    "# X - features\n",
    "# y - output - calories\n",
    "X = data[['TotalSteps', 'TrackerDistance',\n",
    "       'LoggedActivitiesDistance', 'VeryActiveDistance',\n",
    "       'ModeratelyActiveDistance', 'LightActiveDistance',\n",
    "       'SedentaryActiveDistance', 'VeryActiveMinutes', 'FairlyActiveMinutes',\n",
    "       'LightlyActiveMinutes', 'SedentaryMinutes']]\n",
    "y = data[['Calories']]"
   ]
  },
  {
   "cell_type": "code",
   "execution_count": 38,
   "metadata": {},
   "outputs": [],
   "source": [
    "# Splitting into train and test sets\n",
    "X_train_, X_test_, y_train, y_test = train_test_split(X, y, test_size=0.20, random_state=42)"
   ]
  },
  {
   "cell_type": "code",
   "execution_count": 39,
   "metadata": {},
   "outputs": [
    {
     "name": "stderr",
     "output_type": "stream",
     "text": [
      "c:\\users\\prasanna.jaiswal\\appdata\\local\\continuum\\anaconda3\\envs\\firstclose\\lib\\site-packages\\sklearn\\preprocessing\\data.py:645: DataConversionWarning: Data with input dtype int64, float64 were all converted to float64 by StandardScaler.\n",
      "  return self.partial_fit(X, y)\n",
      "c:\\users\\prasanna.jaiswal\\appdata\\local\\continuum\\anaconda3\\envs\\firstclose\\lib\\site-packages\\ipykernel_launcher.py:4: DataConversionWarning: Data with input dtype int64, float64 were all converted to float64 by StandardScaler.\n",
      "  after removing the cwd from sys.path.\n",
      "c:\\users\\prasanna.jaiswal\\appdata\\local\\continuum\\anaconda3\\envs\\firstclose\\lib\\site-packages\\ipykernel_launcher.py:5: DataConversionWarning: Data with input dtype int64, float64 were all converted to float64 by StandardScaler.\n",
      "  \"\"\"\n"
     ]
    }
   ],
   "source": [
    "# Scale features\n",
    "X_scaler = StandardScaler().fit(X_train_)\n",
    "\n",
    "X_train = X_scaler.transform(X_train_)\n",
    "X_test = X_scaler.transform(X_test_)\n",
    "\n",
    "# Save scaler\n",
    "with open('scale_SVR.param', 'wb') as f:\n",
    "    pickle.dump(X_scaler, f)"
   ]
  },
  {
   "cell_type": "code",
   "execution_count": 40,
   "metadata": {},
   "outputs": [
    {
     "name": "stdout",
     "output_type": "stream",
     "text": [
      "Fitting 5 folds for each of 121 candidates, totalling 605 fits\n"
     ]
    },
    {
     "name": "stderr",
     "output_type": "stream",
     "text": [
      "[Parallel(n_jobs=-1)]: Using backend LokyBackend with 4 concurrent workers.\n",
      "[Parallel(n_jobs=-1)]: Done   5 tasks      | elapsed:    2.0s\n",
      "[Parallel(n_jobs=-1)]: Done  10 tasks      | elapsed:    2.2s\n",
      "[Parallel(n_jobs=-1)]: Done  17 tasks      | elapsed:    2.4s\n",
      "[Parallel(n_jobs=-1)]: Done  24 tasks      | elapsed:    2.6s\n",
      "[Parallel(n_jobs=-1)]: Done  33 tasks      | elapsed:    2.9s\n",
      "[Parallel(n_jobs=-1)]: Done  42 tasks      | elapsed:    3.2s\n",
      "[Parallel(n_jobs=-1)]: Batch computation too fast (0.1939s.) Setting batch_size=2.\n",
      "[Parallel(n_jobs=-1)]: Done  53 tasks      | elapsed:    3.4s\n",
      "[Parallel(n_jobs=-1)]: Done  71 tasks      | elapsed:    4.0s\n",
      "[Parallel(n_jobs=-1)]: Done  97 tasks      | elapsed:    4.8s\n",
      "[Parallel(n_jobs=-1)]: Done 123 tasks      | elapsed:    5.5s\n",
      "[Parallel(n_jobs=-1)]: Done 153 tasks      | elapsed:    6.5s\n",
      "[Parallel(n_jobs=-1)]: Done 183 tasks      | elapsed:    7.3s\n",
      "[Parallel(n_jobs=-1)]: Done 217 tasks      | elapsed:    8.2s\n",
      "[Parallel(n_jobs=-1)]: Done 251 tasks      | elapsed:    9.4s\n",
      "[Parallel(n_jobs=-1)]: Done 289 tasks      | elapsed:   10.5s\n",
      "[Parallel(n_jobs=-1)]: Done 327 tasks      | elapsed:   11.5s\n",
      "[Parallel(n_jobs=-1)]: Done 369 tasks      | elapsed:   12.9s\n",
      "[Parallel(n_jobs=-1)]: Done 411 tasks      | elapsed:   14.2s\n",
      "[Parallel(n_jobs=-1)]: Done 457 tasks      | elapsed:   15.5s\n",
      "[Parallel(n_jobs=-1)]: Done 503 tasks      | elapsed:   16.7s\n",
      "[Parallel(n_jobs=-1)]: Done 553 tasks      | elapsed:   18.6s\n",
      "[Parallel(n_jobs=-1)]: Done 605 out of 605 | elapsed:   20.4s finished\n"
     ]
    },
    {
     "data": {
      "text/plain": [
       "GridSearchCV(cv=5, error_score='raise-deprecating',\n",
       "       estimator=SVR(C=1.0, cache_size=200, coef0=0.0, degree=3, epsilon=0.1, gamma='scale',\n",
       "  kernel='rbf', max_iter=-1, shrinking=True, tol=0.001, verbose=False),\n",
       "       fit_params=None, iid='warn', n_jobs=-1,\n",
       "       param_grid={'C': [0.01, 0.05, 0.1, 0.5, 1, 5, 10, 50, 100, 500, 1000], 'epsilon': [0.01, 0.05, 0.1, 0.5, 1, 5, 10, 50, 100, 500, 1000]},\n",
       "       pre_dispatch='2*n_jobs', refit=True, return_train_score='warn',\n",
       "       scoring=make_scorer(rmse, greater_is_better=False), verbose=10)"
      ]
     },
     "execution_count": 40,
     "metadata": {},
     "output_type": "execute_result"
    }
   ],
   "source": [
    "# GridsearchCV - based on RMSE (c= regularization and epsilon = value within true value )\n",
    "\n",
    "score = make_scorer(rmse, greater_is_better=False)\n",
    "\n",
    "params = {'C':[0.01, 0.05, 0.1, 0.5, 1, 5, 10, 50, 100, 500, 1000], 'epsilon':[0.01, 0.05, 0.1, 0.5, 1, 5, 10, 50, 100, 500, 1000]}\n",
    "\n",
    "model= GridSearchCV(SVR(gamma='scale'), params, cv=5, scoring=score, verbose=10, n_jobs=-1)\n",
    "model.fit(X_train, np.ravel(y_train))\n"
   ]
  },
  {
   "cell_type": "code",
   "execution_count": 41,
   "metadata": {},
   "outputs": [
    {
     "name": "stdout",
     "output_type": "stream",
     "text": [
      "Best parameters set found on development set:\n",
      "{'C': 1000, 'epsilon': 100}\n"
     ]
    }
   ],
   "source": [
    "print(\"Best parameters set found on development set:\")\n",
    "print(model.best_params_)"
   ]
  },
  {
   "cell_type": "code",
   "execution_count": 42,
   "metadata": {},
   "outputs": [
    {
     "name": "stdout",
     "output_type": "stream",
     "text": [
      "Grid scores on training set:\n",
      "-781.627 (+/-112.297) for {'C': 0.01, 'epsilon': 0.01}\n",
      "-781.627 (+/-112.297) for {'C': 0.01, 'epsilon': 0.05}\n",
      "-781.627 (+/-112.297) for {'C': 0.01, 'epsilon': 0.1}\n",
      "-781.627 (+/-112.296) for {'C': 0.01, 'epsilon': 0.5}\n",
      "-781.627 (+/-112.308) for {'C': 0.01, 'epsilon': 1}\n",
      "-781.603 (+/-112.658) for {'C': 0.01, 'epsilon': 5}\n",
      "-781.535 (+/-113.012) for {'C': 0.01, 'epsilon': 10}\n",
      "-780.320 (+/-112.350) for {'C': 0.01, 'epsilon': 50}\n",
      "-777.655 (+/-110.272) for {'C': 0.01, 'epsilon': 100}\n",
      "-765.482 (+/-105.516) for {'C': 0.01, 'epsilon': 500}\n",
      "-776.744 (+/-103.165) for {'C': 0.01, 'epsilon': 1000}\n",
      "-780.289 (+/-112.464) for {'C': 0.05, 'epsilon': 0.01}\n",
      "-780.289 (+/-112.464) for {'C': 0.05, 'epsilon': 0.05}\n",
      "-780.289 (+/-112.464) for {'C': 0.05, 'epsilon': 0.1}\n",
      "-780.287 (+/-112.467) for {'C': 0.05, 'epsilon': 0.5}\n",
      "-780.283 (+/-112.475) for {'C': 0.05, 'epsilon': 1}\n",
      "-780.371 (+/-112.490) for {'C': 0.05, 'epsilon': 5}\n",
      "-780.270 (+/-112.793) for {'C': 0.05, 'epsilon': 10}\n",
      "-779.246 (+/-112.065) for {'C': 0.05, 'epsilon': 50}\n",
      "-776.603 (+/-110.366) for {'C': 0.05, 'epsilon': 100}\n",
      "-764.504 (+/-105.469) for {'C': 0.05, 'epsilon': 500}\n",
      "-776.346 (+/-103.196) for {'C': 0.05, 'epsilon': 1000}\n",
      "-778.658 (+/-112.630) for {'C': 0.1, 'epsilon': 0.01}\n",
      "-778.658 (+/-112.630) for {'C': 0.1, 'epsilon': 0.05}\n",
      "-778.658 (+/-112.630) for {'C': 0.1, 'epsilon': 0.1}\n",
      "-778.658 (+/-112.630) for {'C': 0.1, 'epsilon': 0.5}\n",
      "-778.658 (+/-112.630) for {'C': 0.1, 'epsilon': 1}\n",
      "-778.797 (+/-112.366) for {'C': 0.1, 'epsilon': 5}\n",
      "-778.669 (+/-112.511) for {'C': 0.1, 'epsilon': 10}\n",
      "-777.692 (+/-111.640) for {'C': 0.1, 'epsilon': 50}\n",
      "-775.412 (+/-110.388) for {'C': 0.1, 'epsilon': 100}\n",
      "-763.243 (+/-105.488) for {'C': 0.1, 'epsilon': 500}\n",
      "-775.814 (+/-103.186) for {'C': 0.1, 'epsilon': 1000}\n",
      "-767.888 (+/-112.038) for {'C': 0.5, 'epsilon': 0.01}\n",
      "-767.888 (+/-112.037) for {'C': 0.5, 'epsilon': 0.05}\n",
      "-767.887 (+/-112.037) for {'C': 0.5, 'epsilon': 0.1}\n",
      "-767.883 (+/-112.059) for {'C': 0.5, 'epsilon': 0.5}\n",
      "-767.882 (+/-112.025) for {'C': 0.5, 'epsilon': 1}\n",
      "-768.066 (+/-112.151) for {'C': 0.5, 'epsilon': 5}\n",
      "-767.778 (+/-111.349) for {'C': 0.5, 'epsilon': 10}\n",
      "-765.772 (+/-111.504) for {'C': 0.5, 'epsilon': 50}\n",
      "-764.932 (+/-110.484) for {'C': 0.5, 'epsilon': 100}\n",
      "-754.316 (+/-105.635) for {'C': 0.5, 'epsilon': 500}\n",
      "-772.022 (+/-102.032) for {'C': 0.5, 'epsilon': 1000}\n",
      "-755.167 (+/-110.361) for {'C': 1, 'epsilon': 0.01}\n",
      "-755.169 (+/-110.363) for {'C': 1, 'epsilon': 0.05}\n",
      "-755.172 (+/-110.368) for {'C': 1, 'epsilon': 0.1}\n",
      "-755.187 (+/-110.408) for {'C': 1, 'epsilon': 0.5}\n",
      "-755.163 (+/-110.432) for {'C': 1, 'epsilon': 1}\n",
      "-755.208 (+/-110.368) for {'C': 1, 'epsilon': 5}\n",
      "-755.275 (+/-110.905) for {'C': 1, 'epsilon': 10}\n",
      "-754.544 (+/-110.595) for {'C': 1, 'epsilon': 50}\n",
      "-752.094 (+/-110.004) for {'C': 1, 'epsilon': 100}\n",
      "-745.014 (+/-105.309) for {'C': 1, 'epsilon': 500}\n",
      "-767.538 (+/-102.197) for {'C': 1, 'epsilon': 1000}\n",
      "-693.235 (+/-106.501) for {'C': 5, 'epsilon': 0.01}\n",
      "-693.237 (+/-106.494) for {'C': 5, 'epsilon': 0.05}\n",
      "-693.241 (+/-106.489) for {'C': 5, 'epsilon': 0.1}\n",
      "-693.258 (+/-106.472) for {'C': 5, 'epsilon': 0.5}\n",
      "-693.240 (+/-106.505) for {'C': 5, 'epsilon': 1}\n",
      "-693.366 (+/-106.651) for {'C': 5, 'epsilon': 5}\n",
      "-693.533 (+/-106.989) for {'C': 5, 'epsilon': 10}\n",
      "-695.286 (+/-107.506) for {'C': 5, 'epsilon': 50}\n",
      "-693.142 (+/-106.701) for {'C': 5, 'epsilon': 100}\n",
      "-695.715 (+/-103.236) for {'C': 5, 'epsilon': 500}\n",
      "-741.935 (+/-99.595) for {'C': 5, 'epsilon': 1000}\n",
      "-653.609 (+/-103.200) for {'C': 10, 'epsilon': 0.01}\n",
      "-653.607 (+/-103.195) for {'C': 10, 'epsilon': 0.05}\n",
      "-653.608 (+/-103.191) for {'C': 10, 'epsilon': 0.1}\n",
      "-653.591 (+/-103.167) for {'C': 10, 'epsilon': 0.5}\n",
      "-653.579 (+/-103.152) for {'C': 10, 'epsilon': 1}\n",
      "-653.687 (+/-103.412) for {'C': 10, 'epsilon': 5}\n",
      "-653.441 (+/-103.336) for {'C': 10, 'epsilon': 10}\n",
      "-651.157 (+/-103.457) for {'C': 10, 'epsilon': 50}\n",
      "-650.886 (+/-102.642) for {'C': 10, 'epsilon': 100}\n",
      "-663.722 (+/-99.973) for {'C': 10, 'epsilon': 500}\n",
      "-723.854 (+/-97.545) for {'C': 10, 'epsilon': 1000}\n",
      "-557.198 (+/-75.813) for {'C': 50, 'epsilon': 0.01}\n",
      "-557.197 (+/-75.811) for {'C': 50, 'epsilon': 0.05}\n",
      "-557.194 (+/-75.809) for {'C': 50, 'epsilon': 0.1}\n",
      "-557.178 (+/-75.765) for {'C': 50, 'epsilon': 0.5}\n",
      "-557.155 (+/-75.687) for {'C': 50, 'epsilon': 1}\n",
      "-557.190 (+/-75.408) for {'C': 50, 'epsilon': 5}\n",
      "-557.110 (+/-75.228) for {'C': 50, 'epsilon': 10}\n",
      "-557.922 (+/-75.728) for {'C': 50, 'epsilon': 50}\n",
      "-558.844 (+/-76.861) for {'C': 50, 'epsilon': 100}\n",
      "-573.974 (+/-79.284) for {'C': 50, 'epsilon': 500}\n",
      "-646.809 (+/-84.809) for {'C': 50, 'epsilon': 1000}\n",
      "-508.368 (+/-60.430) for {'C': 100, 'epsilon': 0.01}\n",
      "-508.368 (+/-60.432) for {'C': 100, 'epsilon': 0.05}\n",
      "-508.369 (+/-60.434) for {'C': 100, 'epsilon': 0.1}\n",
      "-508.383 (+/-60.435) for {'C': 100, 'epsilon': 0.5}\n",
      "-508.404 (+/-60.441) for {'C': 100, 'epsilon': 1}\n",
      "-508.656 (+/-60.438) for {'C': 100, 'epsilon': 5}\n",
      "-508.594 (+/-60.827) for {'C': 100, 'epsilon': 10}\n",
      "-508.083 (+/-61.569) for {'C': 100, 'epsilon': 50}\n",
      "-508.321 (+/-62.934) for {'C': 100, 'epsilon': 100}\n",
      "-538.221 (+/-63.758) for {'C': 100, 'epsilon': 500}\n",
      "-611.356 (+/-70.672) for {'C': 100, 'epsilon': 1000}\n",
      "-428.565 (+/-41.674) for {'C': 500, 'epsilon': 0.01}\n",
      "-428.565 (+/-41.672) for {'C': 500, 'epsilon': 0.05}\n",
      "-428.565 (+/-41.670) for {'C': 500, 'epsilon': 0.1}\n",
      "-428.566 (+/-41.652) for {'C': 500, 'epsilon': 0.5}\n",
      "-428.591 (+/-41.640) for {'C': 500, 'epsilon': 1}\n",
      "-428.932 (+/-41.367) for {'C': 500, 'epsilon': 5}\n",
      "-429.085 (+/-41.184) for {'C': 500, 'epsilon': 10}\n",
      "-428.136 (+/-40.943) for {'C': 500, 'epsilon': 50}\n",
      "-429.862 (+/-42.161) for {'C': 500, 'epsilon': 100}\n",
      "-472.146 (+/-36.879) for {'C': 500, 'epsilon': 500}\n",
      "-605.664 (+/-48.843) for {'C': 500, 'epsilon': 1000}\n",
      "-412.392 (+/-36.099) for {'C': 1000, 'epsilon': 0.01}\n",
      "-412.392 (+/-36.103) for {'C': 1000, 'epsilon': 0.05}\n",
      "-412.392 (+/-36.109) for {'C': 1000, 'epsilon': 0.1}\n",
      "-412.389 (+/-36.150) for {'C': 1000, 'epsilon': 0.5}\n",
      "-412.376 (+/-36.173) for {'C': 1000, 'epsilon': 1}\n",
      "-412.183 (+/-35.983) for {'C': 1000, 'epsilon': 5}\n",
      "-412.305 (+/-35.948) for {'C': 1000, 'epsilon': 10}\n",
      "-410.749 (+/-35.820) for {'C': 1000, 'epsilon': 50}\n",
      "-410.547 (+/-36.375) for {'C': 1000, 'epsilon': 100}\n",
      "-458.497 (+/-29.594) for {'C': 1000, 'epsilon': 500}\n",
      "-617.045 (+/-30.455) for {'C': 1000, 'epsilon': 1000}\n"
     ]
    }
   ],
   "source": [
    "print(\"Grid scores on training set:\")\n",
    "means = model.cv_results_['mean_test_score']\n",
    "stds = model.cv_results_['std_test_score']\n",
    "for mean, std, params in zip(means, stds, model.cv_results_['params']):\n",
    "    print(\"%0.3f (+/-%0.03f) for %r\"\n",
    "          % (mean, std * 2, params))"
   ]
  },
  {
   "cell_type": "code",
   "execution_count": 43,
   "metadata": {},
   "outputs": [
    {
     "data": {
      "text/plain": [
       "SVR(C=1000, cache_size=200, coef0=0.0, degree=3, epsilon=100, gamma='scale',\n",
       "  kernel='rbf', max_iter=-1, shrinking=True, tol=0.001, verbose=False)"
      ]
     },
     "execution_count": 43,
     "metadata": {},
     "output_type": "execute_result"
    }
   ],
   "source": [
    "# Training a SVR model with the best parameters chosen from the GridSearchCV results\n",
    "model_best = SVR(C=model.best_params_['C'], epsilon=model.best_params_['epsilon'], gamma='scale')\n",
    "model_best.fit(X_train, np.ravel(y_train))"
   ]
  },
  {
   "cell_type": "code",
   "execution_count": 16,
   "metadata": {},
   "outputs": [
    {
     "name": "stdout",
     "output_type": "stream",
     "text": [
      "Training Root Mean Square Error (RMSE): 365.32555516174006\n",
      "Testing Root Mean Square Error (RMSE): 348.90969608525774\n",
      "Training R2 score: 0.7730868387558749\n",
      "Testing R2 score: 0.7508698887661688\n"
     ]
    }
   ],
   "source": [
    "# testing best model\n",
    "y_train_pred = model_best.predict(X_train)\n",
    "y_test_pred = model_best.predict(X_test)\n",
    "\n",
    "# RMSE\n",
    "train_rmse = rmse(y_train.values, y_train_pred)\n",
    "print('Training Root Mean Square Error (RMSE): {}'.format(train_rmse))\n",
    "\n",
    "# RMSE\n",
    "test_rmse = rmse(y_test.values, y_test_pred)\n",
    "print('Testing Root Mean Square Error (RMSE): {}'.format(test_rmse))\n",
    "\n",
    "# R2\n",
    "train_r2 = r2_score(y_train, y_train_pred)\n",
    "print('Training R2 score: {}'.format(train_r2))\n",
    "\n",
    "# R2\n",
    "test_r2 = r2_score(y_test, y_test_pred)\n",
    "print('Testing R2 score: {}'.format(test_r2))\n",
    "\n",
    "\n"
   ]
  },
  {
   "cell_type": "code",
   "execution_count": 17,
   "metadata": {},
   "outputs": [
    {
     "name": "stderr",
     "output_type": "stream",
     "text": [
      "c:\\users\\prasanna.jaiswal\\appdata\\local\\continuum\\anaconda3\\envs\\firstclose\\lib\\site-packages\\sklearn\\utils\\deprecation.py:125: FutureWarning: You are accessing a training score ('mean_train_score'), which will not be available by default any more in 0.21. If you need training scores, please set return_train_score=True\n",
      "  warnings.warn(*warn_args, **warn_kwargs)\n",
      "c:\\users\\prasanna.jaiswal\\appdata\\local\\continuum\\anaconda3\\envs\\firstclose\\lib\\site-packages\\sklearn\\utils\\deprecation.py:125: FutureWarning: You are accessing a training score ('std_train_score'), which will not be available by default any more in 0.21. If you need training scores, please set return_train_score=True\n",
      "  warnings.warn(*warn_args, **warn_kwargs)\n",
      "c:\\users\\prasanna.jaiswal\\appdata\\local\\continuum\\anaconda3\\envs\\firstclose\\lib\\site-packages\\matplotlib\\cbook\\__init__.py:424: MatplotlibDeprecationWarning: \n",
      "Passing one of 'on', 'true', 'off', 'false' as a boolean is deprecated; use an actual boolean (True/False) instead.\n",
      "  warn_deprecated(\"2.2\", \"Passing one of 'on', 'true', 'off', 'false' as a \"\n"
     ]
    },
    {
     "data": {
      "image/png": "[encoded data removed]",
      "text/plain": [
       "<Figure size 936x936 with 1 Axes>"
      ]
     },
     "metadata": {
      "needs_background": "light"
     },
     "output_type": "display_data"
    }
   ],
   "source": [
    "results = model.cv_results_\n",
    "plt.figure(figsize=(13, 13))\n",
    "plt.title(\"GridSearchCV with SVR\", fontsize=16)\n",
    "plt.xlabel(\"C\")\n",
    "plt.ylabel(\"-RMSE\")\n",
    "\n",
    "ax = plt.gca()\n",
    "#ax.set_ylim(-800,-550)\n",
    "\n",
    "# Get the regular numpy array from the MaskedArray\n",
    "X_axis = np.array(results['param_C'].data, dtype=float)\n",
    "\n",
    "color='g'\n",
    "for sample, style in (('train', '--'), ('test', '-')):\n",
    "    sample_score_mean = results['mean_%s_%s' % (sample, 'score')]\n",
    "    sample_score_std = results['std_%s_%s' % (sample, 'score')]\n",
    "    ax.fill_between(X_axis, sample_score_mean - sample_score_std,\n",
    "                    sample_score_mean + sample_score_std,\n",
    "                    alpha=0.1 if sample == 'test' else 0, color=color)\n",
    "    ax.plot(X_axis, sample_score_mean, style, color=color,\n",
    "            alpha=1 if sample == 'test' else 0.7,\n",
    "            label=\"%s (%s)\" % ('score', sample))\n",
    "\n",
    "best_index = np.nonzero(results['rank_test_%s' % 'score'] == 1)[0][0]\n",
    "best_score = results['mean_test_%s' % 'score'][best_index]\n",
    "\n",
    "# Plot a dotted vertical line at the best score for that scorer marked by x\n",
    "ax.plot([X_axis[best_index], ] * 2, [0, best_score],\n",
    "        linestyle='-.', color=color, marker='x', markeredgewidth=3, ms=8)\n",
    "\n",
    "# Annotate the best score for that scorer\n",
    "ax.annotate(\"%0.2f\" % best_score,\n",
    "            (X_axis[best_index], best_score + 0.005))\n",
    "\n",
    "plt.legend(loc=\"best\")\n",
    "plt.grid('off')\n",
    "#plt.show()\n",
    "plt.savefig('svr_C_vs_RMSE.png')\n"
   ]
  },
  {
   "cell_type": "code",
   "execution_count": 18,
   "metadata": {},
   "outputs": [
    {
     "name": "stdout",
     "output_type": "stream",
     "text": [
      "Fitting 5 folds for each of 121 candidates, totalling 605 fits\n"
     ]
    },
    {
     "name": "stderr",
     "output_type": "stream",
     "text": [
      "[Parallel(n_jobs=-1)]: Using backend LokyBackend with 4 concurrent workers.\n",
      "[Parallel(n_jobs=-1)]: Batch computation too fast (0.1622s.) Setting batch_size=2.\n",
      "[Parallel(n_jobs=-1)]: Done   5 tasks      | elapsed:    0.3s\n",
      "[Parallel(n_jobs=-1)]: Done  12 tasks      | elapsed:    0.6s\n",
      "[Parallel(n_jobs=-1)]: Done  26 tasks      | elapsed:    1.2s\n",
      "[Parallel(n_jobs=-1)]: Done  40 tasks      | elapsed:    1.6s\n",
      "[Parallel(n_jobs=-1)]: Done  58 tasks      | elapsed:    2.1s\n",
      "[Parallel(n_jobs=-1)]: Done  76 tasks      | elapsed:    2.7s\n",
      "[Parallel(n_jobs=-1)]: Done  98 tasks      | elapsed:    3.5s\n",
      "[Parallel(n_jobs=-1)]: Done 120 tasks      | elapsed:    4.1s\n",
      "[Parallel(n_jobs=-1)]: Done 146 tasks      | elapsed:    5.0s\n",
      "[Parallel(n_jobs=-1)]: Done 172 tasks      | elapsed:    5.6s\n",
      "[Parallel(n_jobs=-1)]: Done 202 tasks      | elapsed:    6.6s\n",
      "[Parallel(n_jobs=-1)]: Done 232 tasks      | elapsed:    7.5s\n",
      "[Parallel(n_jobs=-1)]: Done 266 tasks      | elapsed:    8.6s\n",
      "[Parallel(n_jobs=-1)]: Done 300 tasks      | elapsed:    9.7s\n",
      "[Parallel(n_jobs=-1)]: Done 338 tasks      | elapsed:   10.6s\n",
      "[Parallel(n_jobs=-1)]: Done 376 tasks      | elapsed:   12.1s\n",
      "[Parallel(n_jobs=-1)]: Done 418 tasks      | elapsed:   13.5s\n",
      "[Parallel(n_jobs=-1)]: Done 460 tasks      | elapsed:   14.8s\n",
      "[Parallel(n_jobs=-1)]: Done 506 tasks      | elapsed:   16.3s\n",
      "[Parallel(n_jobs=-1)]: Done 552 tasks      | elapsed:   17.9s\n",
      "[Parallel(n_jobs=-1)]: Done 598 out of 605 | elapsed:   19.8s remaining:    0.1s\n",
      "[Parallel(n_jobs=-1)]: Done 605 out of 605 | elapsed:   19.8s finished\n"
     ]
    },
    {
     "data": {
      "text/plain": [
       "GridSearchCV(cv=5, error_score='raise-deprecating',\n",
       "       estimator=SVR(C=1.0, cache_size=200, coef0=0.0, degree=3, epsilon=0.1, gamma='scale',\n",
       "  kernel='rbf', max_iter=-1, shrinking=True, tol=0.001, verbose=False),\n",
       "       fit_params=None, iid='warn', n_jobs=-1,\n",
       "       param_grid={'C': [0.01, 0.05, 0.1, 0.5, 1, 5, 10, 50, 100, 500, 1000], 'epsilon': [0.01, 0.05, 0.1, 0.5, 1, 5, 10, 50, 100, 500, 1000]},\n",
       "       pre_dispatch='2*n_jobs', refit=True, return_train_score='warn',\n",
       "       scoring='r2', verbose=10)"
      ]
     },
     "execution_count": 18,
     "metadata": {},
     "output_type": "execute_result"
    }
   ],
   "source": [
    "# GridsearchCV - based on r2_score\n",
    "\n",
    "params = {'C':[0.01, 0.05, 0.1, 0.5, 1, 5, 10, 50, 100, 500, 1000], 'epsilon':[0.01, 0.05, 0.1, 0.5, 1, 5, 10, 50, 100, 500, 1000]}\n",
    "\n",
    "model= GridSearchCV(SVR(gamma='scale'), params, cv=5, scoring='r2', verbose=10, n_jobs=-1)\n",
    "model.fit(X_train, np.ravel(y_train))\n"
   ]
  },
  {
   "cell_type": "code",
   "execution_count": 19,
   "metadata": {},
   "outputs": [
    {
     "name": "stdout",
     "output_type": "stream",
     "text": [
      "Best parameters set found on development set:\n",
      "{'C': 1000, 'epsilon': 100}\n",
      "Grid scores on training set:\n",
      "-0.046 (+/-0.042) for {'C': 0.01, 'epsilon': 0.01}\n",
      "-0.046 (+/-0.042) for {'C': 0.01, 'epsilon': 0.05}\n",
      "-0.046 (+/-0.042) for {'C': 0.01, 'epsilon': 0.1}\n",
      "-0.046 (+/-0.042) for {'C': 0.01, 'epsilon': 0.5}\n",
      "-0.046 (+/-0.042) for {'C': 0.01, 'epsilon': 1}\n",
      "-0.046 (+/-0.043) for {'C': 0.01, 'epsilon': 5}\n",
      "-0.046 (+/-0.043) for {'C': 0.01, 'epsilon': 10}\n",
      "-0.043 (+/-0.041) for {'C': 0.01, 'epsilon': 50}\n",
      "-0.036 (+/-0.036) for {'C': 0.01, 'epsilon': 100}\n",
      "-0.004 (+/-0.012) for {'C': 0.01, 'epsilon': 500}\n",
      "-0.034 (+/-0.050) for {'C': 0.01, 'epsilon': 1000}\n",
      "-0.043 (+/-0.042) for {'C': 0.05, 'epsilon': 0.01}\n",
      "-0.043 (+/-0.042) for {'C': 0.05, 'epsilon': 0.05}\n",
      "-0.043 (+/-0.042) for {'C': 0.05, 'epsilon': 0.1}\n",
      "-0.043 (+/-0.042) for {'C': 0.05, 'epsilon': 0.5}\n",
      "-0.043 (+/-0.042) for {'C': 0.05, 'epsilon': 1}\n",
      "-0.043 (+/-0.043) for {'C': 0.05, 'epsilon': 5}\n",
      "-0.043 (+/-0.042) for {'C': 0.05, 'epsilon': 10}\n",
      "-0.040 (+/-0.041) for {'C': 0.05, 'epsilon': 50}\n",
      "-0.033 (+/-0.036) for {'C': 0.05, 'epsilon': 100}\n",
      "-0.001 (+/-0.013) for {'C': 0.05, 'epsilon': 500}\n",
      "-0.033 (+/-0.050) for {'C': 0.05, 'epsilon': 1000}\n",
      "-0.038 (+/-0.042) for {'C': 0.1, 'epsilon': 0.01}\n",
      "-0.038 (+/-0.042) for {'C': 0.1, 'epsilon': 0.05}\n",
      "-0.038 (+/-0.042) for {'C': 0.1, 'epsilon': 0.1}\n",
      "-0.038 (+/-0.042) for {'C': 0.1, 'epsilon': 0.5}\n",
      "-0.038 (+/-0.042) for {'C': 0.1, 'epsilon': 1}\n",
      "-0.039 (+/-0.042) for {'C': 0.1, 'epsilon': 5}\n",
      "-0.038 (+/-0.042) for {'C': 0.1, 'epsilon': 10}\n",
      "-0.036 (+/-0.040) for {'C': 0.1, 'epsilon': 50}\n",
      "-0.030 (+/-0.036) for {'C': 0.1, 'epsilon': 100}\n",
      "0.002 (+/-0.013) for {'C': 0.1, 'epsilon': 500}\n",
      "-0.032 (+/-0.050) for {'C': 0.1, 'epsilon': 1000}\n",
      "-0.010 (+/-0.042) for {'C': 0.5, 'epsilon': 0.01}\n",
      "-0.010 (+/-0.042) for {'C': 0.5, 'epsilon': 0.05}\n",
      "-0.010 (+/-0.042) for {'C': 0.5, 'epsilon': 0.1}\n",
      "-0.010 (+/-0.042) for {'C': 0.5, 'epsilon': 0.5}\n",
      "-0.010 (+/-0.042) for {'C': 0.5, 'epsilon': 1}\n",
      "-0.010 (+/-0.042) for {'C': 0.5, 'epsilon': 5}\n",
      "-0.009 (+/-0.040) for {'C': 0.5, 'epsilon': 10}\n",
      "-0.004 (+/-0.038) for {'C': 0.5, 'epsilon': 50}\n",
      "-0.002 (+/-0.035) for {'C': 0.5, 'epsilon': 100}\n",
      "0.025 (+/-0.013) for {'C': 0.5, 'epsilon': 500}\n",
      "-0.022 (+/-0.051) for {'C': 0.5, 'epsilon': 1000}\n",
      "0.024 (+/-0.037) for {'C': 1, 'epsilon': 0.01}\n",
      "0.023 (+/-0.037) for {'C': 1, 'epsilon': 0.05}\n",
      "0.023 (+/-0.037) for {'C': 1, 'epsilon': 0.1}\n",
      "0.023 (+/-0.037) for {'C': 1, 'epsilon': 0.5}\n",
      "0.024 (+/-0.037) for {'C': 1, 'epsilon': 1}\n",
      "0.023 (+/-0.037) for {'C': 1, 'epsilon': 5}\n",
      "0.023 (+/-0.037) for {'C': 1, 'epsilon': 10}\n",
      "0.025 (+/-0.038) for {'C': 1, 'epsilon': 50}\n",
      "0.031 (+/-0.033) for {'C': 1, 'epsilon': 100}\n",
      "0.049 (+/-0.018) for {'C': 1, 'epsilon': 500}\n",
      "-0.010 (+/-0.049) for {'C': 1, 'epsilon': 1000}\n",
      "0.178 (+/-0.034) for {'C': 5, 'epsilon': 0.01}\n",
      "0.178 (+/-0.034) for {'C': 5, 'epsilon': 0.05}\n",
      "0.178 (+/-0.034) for {'C': 5, 'epsilon': 0.1}\n",
      "0.177 (+/-0.034) for {'C': 5, 'epsilon': 0.5}\n",
      "0.178 (+/-0.034) for {'C': 5, 'epsilon': 1}\n",
      "0.177 (+/-0.034) for {'C': 5, 'epsilon': 5}\n",
      "0.177 (+/-0.035) for {'C': 5, 'epsilon': 10}\n",
      "0.173 (+/-0.035) for {'C': 5, 'epsilon': 50}\n",
      "0.178 (+/-0.032) for {'C': 5, 'epsilon': 100}\n",
      "0.171 (+/-0.026) for {'C': 5, 'epsilon': 500}\n",
      "0.056 (+/-0.053) for {'C': 5, 'epsilon': 1000}\n",
      "0.269 (+/-0.042) for {'C': 10, 'epsilon': 0.01}\n",
      "0.269 (+/-0.042) for {'C': 10, 'epsilon': 0.05}\n",
      "0.269 (+/-0.042) for {'C': 10, 'epsilon': 0.1}\n",
      "0.269 (+/-0.042) for {'C': 10, 'epsilon': 0.5}\n",
      "0.269 (+/-0.042) for {'C': 10, 'epsilon': 1}\n",
      "0.269 (+/-0.042) for {'C': 10, 'epsilon': 5}\n",
      "0.269 (+/-0.042) for {'C': 10, 'epsilon': 10}\n",
      "0.274 (+/-0.043) for {'C': 10, 'epsilon': 50}\n",
      "0.275 (+/-0.043) for {'C': 10, 'epsilon': 100}\n",
      "0.246 (+/-0.031) for {'C': 10, 'epsilon': 500}\n",
      "0.102 (+/-0.056) for {'C': 10, 'epsilon': 1000}\n",
      "0.468 (+/-0.035) for {'C': 50, 'epsilon': 0.01}\n",
      "0.468 (+/-0.035) for {'C': 50, 'epsilon': 0.05}\n",
      "0.468 (+/-0.035) for {'C': 50, 'epsilon': 0.1}\n",
      "0.468 (+/-0.035) for {'C': 50, 'epsilon': 0.5}\n",
      "0.468 (+/-0.035) for {'C': 50, 'epsilon': 1}\n",
      "0.468 (+/-0.036) for {'C': 50, 'epsilon': 5}\n",
      "0.468 (+/-0.037) for {'C': 50, 'epsilon': 10}\n",
      "0.466 (+/-0.030) for {'C': 50, 'epsilon': 50}\n",
      "0.465 (+/-0.032) for {'C': 50, 'epsilon': 100}\n",
      "0.435 (+/-0.028) for {'C': 50, 'epsilon': 500}\n",
      "0.283 (+/-0.056) for {'C': 50, 'epsilon': 1000}\n",
      "0.557 (+/-0.022) for {'C': 100, 'epsilon': 0.01}\n",
      "0.557 (+/-0.022) for {'C': 100, 'epsilon': 0.05}\n",
      "0.557 (+/-0.022) for {'C': 100, 'epsilon': 0.1}\n",
      "0.557 (+/-0.022) for {'C': 100, 'epsilon': 0.5}\n",
      "0.557 (+/-0.022) for {'C': 100, 'epsilon': 1}\n",
      "0.556 (+/-0.022) for {'C': 100, 'epsilon': 5}\n",
      "0.556 (+/-0.022) for {'C': 100, 'epsilon': 10}\n",
      "0.557 (+/-0.021) for {'C': 100, 'epsilon': 50}\n",
      "0.557 (+/-0.018) for {'C': 100, 'epsilon': 100}\n",
      "0.503 (+/-0.026) for {'C': 100, 'epsilon': 500}\n",
      "0.359 (+/-0.042) for {'C': 100, 'epsilon': 1000}\n",
      "0.684 (+/-0.036) for {'C': 500, 'epsilon': 0.01}\n",
      "0.684 (+/-0.036) for {'C': 500, 'epsilon': 0.05}\n",
      "0.684 (+/-0.036) for {'C': 500, 'epsilon': 0.1}\n",
      "0.684 (+/-0.036) for {'C': 500, 'epsilon': 0.5}\n",
      "0.684 (+/-0.036) for {'C': 500, 'epsilon': 1}\n",
      "0.684 (+/-0.036) for {'C': 500, 'epsilon': 5}\n",
      "0.683 (+/-0.037) for {'C': 500, 'epsilon': 10}\n",
      "0.685 (+/-0.038) for {'C': 500, 'epsilon': 50}\n",
      "0.682 (+/-0.036) for {'C': 500, 'epsilon': 100}\n",
      "0.616 (+/-0.051) for {'C': 500, 'epsilon': 500}\n",
      "0.366 (+/-0.143) for {'C': 500, 'epsilon': 1000}\n",
      "0.707 (+/-0.042) for {'C': 1000, 'epsilon': 0.01}\n",
      "0.707 (+/-0.042) for {'C': 1000, 'epsilon': 0.05}\n",
      "0.707 (+/-0.042) for {'C': 1000, 'epsilon': 0.1}\n",
      "0.707 (+/-0.042) for {'C': 1000, 'epsilon': 0.5}\n",
      "0.707 (+/-0.042) for {'C': 1000, 'epsilon': 1}\n",
      "0.707 (+/-0.042) for {'C': 1000, 'epsilon': 5}\n",
      "0.707 (+/-0.042) for {'C': 1000, 'epsilon': 10}\n",
      "0.709 (+/-0.045) for {'C': 1000, 'epsilon': 50}\n",
      "0.710 (+/-0.043) for {'C': 1000, 'epsilon': 100}\n",
      "0.637 (+/-0.055) for {'C': 1000, 'epsilon': 500}\n",
      "0.341 (+/-0.150) for {'C': 1000, 'epsilon': 1000}\n"
     ]
    }
   ],
   "source": [
    "print(\"Best parameters set found on development set:\")\n",
    "print(model.best_params_)\n",
    "\n",
    "print(\"Grid scores on training set:\")\n",
    "means = model.cv_results_['mean_test_score']\n",
    "stds = model.cv_results_['std_test_score']\n",
    "for mean, std, params in zip(means, stds, model.cv_results_['params']):\n",
    "    print(\"%0.3f (+/-%0.03f) for %r\"\n",
    "          % (mean, std * 2, params))"
   ]
  },
  {
   "cell_type": "code",
   "execution_count": 20,
   "metadata": {},
   "outputs": [],
   "source": [
    "# Training a SVR model with the best parameters chosen from the GridSearchCV results\n",
    "model_best = SVR(C=model.best_params_['C'], epsilon=model.best_params_['epsilon'], gamma='scale')\n",
    "model_best.fit(X_train, np.ravel(y_train))\n",
    "\n",
    "# save model\n",
    "with open('calorie_predictor_SVR.model', 'wb') as f:\n",
    "    pickle.dump(model_best, f)"
   ]
  },
  {
   "cell_type": "code",
   "execution_count": 21,
   "metadata": {},
   "outputs": [
    {
     "name": "stdout",
     "output_type": "stream",
     "text": [
      "Training Root Mean Square Error (RMSE): 365.32555516174006\n",
      "Testing Root Mean Square Error (RMSE): 348.90969608525774\n",
      "Training R2 score: 0.7730868387558749\n",
      "Testing R2 score: 0.7508698887661688\n"
     ]
    }
   ],
   "source": [
    "# testing best model\n",
    "y_train_pred = model_best.predict(X_train)\n",
    "y_test_pred = model_best.predict(X_test)\n",
    "\n",
    "# RMSE\n",
    "train_rmse = rmse(y_train.values, y_train_pred)\n",
    "print('Training Root Mean Square Error (RMSE): {}'.format(train_rmse))\n",
    "\n",
    "# RMSE\n",
    "test_rmse = rmse(y_test.values, y_test_pred)\n",
    "print('Testing Root Mean Square Error (RMSE): {}'.format(test_rmse))\n",
    "\n",
    "# R2\n",
    "train_r2 = r2_score(y_train, y_train_pred)\n",
    "print('Training R2 score: {}'.format(train_r2))\n",
    "\n",
    "# R2\n",
    "test_r2 = r2_score(y_test, y_test_pred)\n",
    "print('Testing R2 score: {}'.format(test_r2))\n"
   ]
  },
  {
   "cell_type": "code",
   "execution_count": 22,
   "metadata": {},
   "outputs": [
    {
     "name": "stderr",
     "output_type": "stream",
     "text": [
      "c:\\users\\prasanna.jaiswal\\appdata\\local\\continuum\\anaconda3\\envs\\firstclose\\lib\\site-packages\\sklearn\\utils\\deprecation.py:125: FutureWarning: You are accessing a training score ('mean_train_score'), which will not be available by default any more in 0.21. If you need training scores, please set return_train_score=True\n",
      "  warnings.warn(*warn_args, **warn_kwargs)\n",
      "c:\\users\\prasanna.jaiswal\\appdata\\local\\continuum\\anaconda3\\envs\\firstclose\\lib\\site-packages\\sklearn\\utils\\deprecation.py:125: FutureWarning: You are accessing a training score ('std_train_score'), which will not be available by default any more in 0.21. If you need training scores, please set return_train_score=True\n",
      "  warnings.warn(*warn_args, **warn_kwargs)\n",
      "c:\\users\\prasanna.jaiswal\\appdata\\local\\continuum\\anaconda3\\envs\\firstclose\\lib\\site-packages\\matplotlib\\cbook\\__init__.py:424: MatplotlibDeprecationWarning: \n",
      "Passing one of 'on', 'true', 'off', 'false' as a boolean is deprecated; use an actual boolean (True/False) instead.\n",
      "  warn_deprecated(\"2.2\", \"Passing one of 'on', 'true', 'off', 'false' as a \"\n"
     ]
    },
    {
     "data": {
      "image/png": "[encoded data removed]",
      "text/plain": [
       "<Figure size 936x936 with 1 Axes>"
      ]
     },
     "metadata": {
      "needs_background": "light"
     },
     "output_type": "display_data"
    }
   ],
   "source": [
    "results = model.cv_results_\n",
    "plt.figure(figsize=(13, 13))\n",
    "plt.title(\"GridSearchCV with SVR\", fontsize=16)\n",
    "plt.xlabel(\"C\")\n",
    "plt.ylabel(\"r2\")\n",
    "\n",
    "ax = plt.gca()\n",
    "#ax.set_ylim(-800,-550)\n",
    "\n",
    "# Get the regular numpy array from the MaskedArray\n",
    "X_axis = np.array(results['param_C'].data, dtype=float)\n",
    "\n",
    "color='g'\n",
    "for sample, style in (('train', '--'), ('test', '-')):\n",
    "    sample_score_mean = results['mean_%s_%s' % (sample, 'score')]\n",
    "    sample_score_std = results['std_%s_%s' % (sample, 'score')]\n",
    "    ax.fill_between(X_axis, sample_score_mean - sample_score_std,\n",
    "                    sample_score_mean + sample_score_std,\n",
    "                    alpha=0.1 if sample == 'test' else 0, color=color)\n",
    "    ax.plot(X_axis, sample_score_mean, style, color=color,\n",
    "            alpha=1 if sample == 'test' else 0.7,\n",
    "            label=\"%s (%s)\" % ('score', sample))\n",
    "\n",
    "best_index = np.nonzero(results['rank_test_%s' % 'score'] == 1)[0][0]\n",
    "best_score = results['mean_test_%s' % 'score'][best_index]\n",
    "\n",
    "# Plot a dotted vertical line at the best score for that scorer marked by x\n",
    "ax.plot([X_axis[best_index], ] * 2, [0, best_score],\n",
    "        linestyle='-.', color=color, marker='x', markeredgewidth=3, ms=8)\n",
    "\n",
    "# Annotate the best score for that scorer\n",
    "ax.annotate(\"%0.2f\" % best_score,\n",
    "            (X_axis[best_index], best_score + 0.005))\n",
    "\n",
    "plt.legend(loc=\"best\")\n",
    "plt.grid('off')\n",
    "#plt.show()\n",
    "plt.savefig('svr_C_vs_r2.png')"
   ]
  },
  {
   "cell_type": "code",
   "execution_count": 23,
   "metadata": {},
   "outputs": [],
   "source": [
    "def predict_calories(model_name, scale_name, features):\n",
    "    # model_name: name of the trained Gradient Boosted Regressor model, e.g.: 'calorie_predictor_GBR.model'\n",
    "    # scale_name: name of file containing variable to scale features\n",
    "    # features: 1 x 11 features as numpy array, e.g.: np.array([10, 11, 12, 13, 14, 15, 16, 17, 18, 19, 20]) where the numbers are feature values\n",
    "    \n",
    "    # Loads the model saved in model_name. Runs the model using given feature vector. Returns the predicted calories.\n",
    "    \n",
    "    # loading model\n",
    "    with open(model_name, 'rb') as f:\n",
    "        calorie_model = pickle.load(f)\n",
    "        \n",
    "    # loading scaler\n",
    "    with open(scale_name, 'rb') as f:\n",
    "        X_scaler = pickle.load(f)\n",
    "\n",
    "    assert np.shape(features)[0] == 11 # make sure number of features is correct\n",
    "    \n",
    "    features = features[np.newaxis, :]\n",
    "    features = X_scaler.transform(features)\n",
    "    \n",
    "\n",
    "    return calorie_model.predict(features)"
   ]
  },
  {
   "cell_type": "code",
   "execution_count": 24,
   "metadata": {},
   "outputs": [
    {
     "name": "stdout",
     "output_type": "stream",
     "text": [
      "Predicted calories: [3049.43522239]\n"
     ]
    },
    {
     "name": "stderr",
     "output_type": "stream",
     "text": [
      "c:\\users\\prasanna.jaiswal\\appdata\\local\\continuum\\anaconda3\\envs\\firstclose\\lib\\site-packages\\sklearn\\utils\\validation.py:595: DataConversionWarning: Data with input dtype int32 was converted to float64 by StandardScaler.\n",
      "  warnings.warn(msg, DataConversionWarning)\n"
     ]
    }
   ],
   "source": [
    "import pickle\n",
    "from sklearn.ensemble import GradientBoostingRegressor\n",
    "from sklearn.preprocessing import StandardScaler\n",
    "\n",
    "model_name = 'calorie_predictor_SVR.model'\n",
    "scale_name = 'scale_SVR.param'\n",
    "features = np.array([10, 11, 12, 13, 14, 15, 16, 17, 18, 19, 20])\n",
    "\n",
    "pred_calories = predict_calories(model_name, scale_name, features)\n",
    "print('Predicted calories: {}'.format(pred_calories))"
   ]
  }
 ],
 "metadata": {
  "kernelspec": {
   "display_name": "Python 3",
   "language": "python",
   "name": "python3"
  },
  "language_info": {
   "codemirror_mode": {
    "name": "ipython",
    "version": 3
   },
   "file_extension": ".py",
   "mimetype": "text/x-python",
   "name": "python",
   "nbconvert_exporter": "python",
   "pygments_lexer": "ipython3",
   "version": "3.7.2"
  }
 },
 "nbformat": 4,
 "nbformat_minor": 2
}
