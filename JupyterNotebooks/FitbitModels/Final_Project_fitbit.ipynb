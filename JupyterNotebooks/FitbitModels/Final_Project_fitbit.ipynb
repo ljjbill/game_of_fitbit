{
 "cells": [
  {
   "cell_type": "markdown",
   "metadata": {},
   "source": [
    "# Import Dependencies"
   ]
  },
  {
   "cell_type": "code",
   "execution_count": null,
   "metadata": {},
   "outputs": [],
   "source": [
    "from matplotlib import pyplot as plt\n",
    "from sklearn.model_selection import train_test_split\n",
    "from sklearn.metrics import r2_score\n",
    "from scipy import stats\n",
    "import numpy as np\n",
    "import pandas as pd\n",
    "import xgboost as xgb\n",
    "import math\n",
    "import os\n",
    "# os.environ[\"PATH\"] = 'C:\\\\Users\\\\prasanna.jaiswal\\\\AppData\\\\Local\\\\Continuum\\\\anaconda3\\\\envs\\\\Firstclose\\\\Lib\\\\site-packages\\\\graphviz' + os.pathsep +  os.environ['PATH']"
   ]
  },
  {
   "cell_type": "markdown",
   "metadata": {},
   "source": [
    "# Creating Function for RMS"
   ]
  },
  {
   "cell_type": "code",
   "execution_count": 2,
   "metadata": {},
   "outputs": [],
   "source": [
    "def rmse(y1, y2):\n",
    "    ss = 0\n",
    "    for x1, x2 in zip(y1, y2):\n",
    "        x1 = float(x1)\n",
    "        x2 = float(x2)\n",
    "        ss += pow((x1 - x2), 2)\n",
    "        \n",
    "    m = ss / len(y1)\n",
    "    return math.sqrt(m)"
   ]
  },
  {
   "cell_type": "markdown",
   "metadata": {},
   "source": [
    "# Import data from data source"
   ]
  },
  {
   "cell_type": "code",
   "execution_count": 3,
   "metadata": {},
   "outputs": [
    {
     "data": {
      "text/html": [
       "<div>\n",
       "<style scoped>\n",
       "    .dataframe tbody tr th:only-of-type {\n",
       "        vertical-align: middle;\n",
       "    }\n",
       "\n",
       "    .dataframe tbody tr th {\n",
       "        vertical-align: top;\n",
       "    }\n",
       "\n",
       "    .dataframe thead th {\n",
       "        text-align: right;\n",
       "    }\n",
       "</style>\n",
       "<table border=\"1\" class=\"dataframe\">\n",
       "  <thead>\n",
       "    <tr style=\"text-align: right;\">\n",
       "      <th></th>\n",
       "      <th>Id</th>\n",
       "      <th>ActivityDate</th>\n",
       "      <th>TotalSteps</th>\n",
       "      <th>TotalDistance</th>\n",
       "      <th>TrackerDistance</th>\n",
       "      <th>LoggedActivitiesDistance</th>\n",
       "      <th>VeryActiveDistance</th>\n",
       "      <th>ModeratelyActiveDistance</th>\n",
       "      <th>LightActiveDistance</th>\n",
       "      <th>SedentaryActiveDistance</th>\n",
       "      <th>VeryActiveMinutes</th>\n",
       "      <th>FairlyActiveMinutes</th>\n",
       "      <th>LightlyActiveMinutes</th>\n",
       "      <th>SedentaryMinutes</th>\n",
       "      <th>Calories</th>\n",
       "      <th>TotalTimeinBed</th>\n",
       "      <th>TotalMinutesAssleep</th>\n",
       "      <th>TotalSleepRecords</th>\n",
       "      <th>TotalMinutesAsleep</th>\n",
       "      <th>TotalTimeInBed</th>\n",
       "    </tr>\n",
       "  </thead>\n",
       "  <tbody>\n",
       "    <tr>\n",
       "      <th>0</th>\n",
       "      <td>1503960366</td>\n",
       "      <td>3/25/2016</td>\n",
       "      <td>11004</td>\n",
       "      <td>7.11</td>\n",
       "      <td>7.11</td>\n",
       "      <td>0.0</td>\n",
       "      <td>2.57</td>\n",
       "      <td>0.46</td>\n",
       "      <td>4.07</td>\n",
       "      <td>0.0</td>\n",
       "      <td>33</td>\n",
       "      <td>12</td>\n",
       "      <td>205</td>\n",
       "      <td>804</td>\n",
       "      <td>1819</td>\n",
       "      <td>NaN</td>\n",
       "      <td>NaN</td>\n",
       "      <td>NaN</td>\n",
       "      <td>NaN</td>\n",
       "      <td>NaN</td>\n",
       "    </tr>\n",
       "    <tr>\n",
       "      <th>1</th>\n",
       "      <td>1503960366</td>\n",
       "      <td>3/26/2016</td>\n",
       "      <td>17609</td>\n",
       "      <td>11.55</td>\n",
       "      <td>11.55</td>\n",
       "      <td>0.0</td>\n",
       "      <td>6.92</td>\n",
       "      <td>0.73</td>\n",
       "      <td>3.91</td>\n",
       "      <td>0.0</td>\n",
       "      <td>89</td>\n",
       "      <td>17</td>\n",
       "      <td>274</td>\n",
       "      <td>588</td>\n",
       "      <td>2154</td>\n",
       "      <td>NaN</td>\n",
       "      <td>NaN</td>\n",
       "      <td>NaN</td>\n",
       "      <td>NaN</td>\n",
       "      <td>NaN</td>\n",
       "    </tr>\n",
       "    <tr>\n",
       "      <th>2</th>\n",
       "      <td>1503960366</td>\n",
       "      <td>3/27/2016</td>\n",
       "      <td>12736</td>\n",
       "      <td>8.53</td>\n",
       "      <td>8.53</td>\n",
       "      <td>0.0</td>\n",
       "      <td>4.66</td>\n",
       "      <td>0.16</td>\n",
       "      <td>3.71</td>\n",
       "      <td>0.0</td>\n",
       "      <td>56</td>\n",
       "      <td>5</td>\n",
       "      <td>268</td>\n",
       "      <td>605</td>\n",
       "      <td>1944</td>\n",
       "      <td>NaN</td>\n",
       "      <td>NaN</td>\n",
       "      <td>NaN</td>\n",
       "      <td>NaN</td>\n",
       "      <td>NaN</td>\n",
       "    </tr>\n",
       "    <tr>\n",
       "      <th>3</th>\n",
       "      <td>1503960366</td>\n",
       "      <td>3/28/2016</td>\n",
       "      <td>13231</td>\n",
       "      <td>8.93</td>\n",
       "      <td>8.93</td>\n",
       "      <td>0.0</td>\n",
       "      <td>3.19</td>\n",
       "      <td>0.79</td>\n",
       "      <td>4.95</td>\n",
       "      <td>0.0</td>\n",
       "      <td>39</td>\n",
       "      <td>20</td>\n",
       "      <td>224</td>\n",
       "      <td>1080</td>\n",
       "      <td>1932</td>\n",
       "      <td>NaN</td>\n",
       "      <td>NaN</td>\n",
       "      <td>NaN</td>\n",
       "      <td>NaN</td>\n",
       "      <td>NaN</td>\n",
       "    </tr>\n",
       "    <tr>\n",
       "      <th>4</th>\n",
       "      <td>1503960366</td>\n",
       "      <td>3/29/2016</td>\n",
       "      <td>12041</td>\n",
       "      <td>7.85</td>\n",
       "      <td>7.85</td>\n",
       "      <td>0.0</td>\n",
       "      <td>2.16</td>\n",
       "      <td>1.09</td>\n",
       "      <td>4.61</td>\n",
       "      <td>0.0</td>\n",
       "      <td>28</td>\n",
       "      <td>28</td>\n",
       "      <td>243</td>\n",
       "      <td>763</td>\n",
       "      <td>1886</td>\n",
       "      <td>NaN</td>\n",
       "      <td>NaN</td>\n",
       "      <td>NaN</td>\n",
       "      <td>NaN</td>\n",
       "      <td>NaN</td>\n",
       "    </tr>\n",
       "  </tbody>\n",
       "</table>\n",
       "</div>"
      ],
      "text/plain": [
       "           Id ActivityDate  TotalSteps  TotalDistance  TrackerDistance  \\\n",
       "0  1503960366    3/25/2016       11004           7.11             7.11   \n",
       "1  1503960366    3/26/2016       17609          11.55            11.55   \n",
       "2  1503960366    3/27/2016       12736           8.53             8.53   \n",
       "3  1503960366    3/28/2016       13231           8.93             8.93   \n",
       "4  1503960366    3/29/2016       12041           7.85             7.85   \n",
       "\n",
       "   LoggedActivitiesDistance  VeryActiveDistance  ModeratelyActiveDistance  \\\n",
       "0                       0.0                2.57                      0.46   \n",
       "1                       0.0                6.92                      0.73   \n",
       "2                       0.0                4.66                      0.16   \n",
       "3                       0.0                3.19                      0.79   \n",
       "4                       0.0                2.16                      1.09   \n",
       "\n",
       "   LightActiveDistance  SedentaryActiveDistance  VeryActiveMinutes  \\\n",
       "0                 4.07                      0.0                 33   \n",
       "1                 3.91                      0.0                 89   \n",
       "2                 3.71                      0.0                 56   \n",
       "3                 4.95                      0.0                 39   \n",
       "4                 4.61                      0.0                 28   \n",
       "\n",
       "   FairlyActiveMinutes  LightlyActiveMinutes  SedentaryMinutes  Calories  \\\n",
       "0                   12                   205               804      1819   \n",
       "1                   17                   274               588      2154   \n",
       "2                    5                   268               605      1944   \n",
       "3                   20                   224              1080      1932   \n",
       "4                   28                   243               763      1886   \n",
       "\n",
       "   TotalTimeinBed  TotalMinutesAssleep  TotalSleepRecords  TotalMinutesAsleep  \\\n",
       "0             NaN                  NaN                NaN                 NaN   \n",
       "1             NaN                  NaN                NaN                 NaN   \n",
       "2             NaN                  NaN                NaN                 NaN   \n",
       "3             NaN                  NaN                NaN                 NaN   \n",
       "4             NaN                  NaN                NaN                 NaN   \n",
       "\n",
       "   TotalTimeInBed  \n",
       "0             NaN  \n",
       "1             NaN  \n",
       "2             NaN  \n",
       "3             NaN  \n",
       "4             NaN  "
      ]
     },
     "execution_count": 3,
     "metadata": {},
     "output_type": "execute_result"
    }
   ],
   "source": [
    " \n",
    "data_fitbit =\"dailyActivity.csv\"\n",
    "data_sleeping = \"sleepDay_merged.csv\"\n",
    "\n",
    "fitbit_analysis = pd.read_csv(data_fitbit)\n",
    "sleep_data =pd.read_csv(data_sleeping)\n",
    "#sleep_data.head()\n",
    "# Combine the data into a single dataset\n",
    "to_model_data = pd.merge(fitbit_analysis,sleep_data, on=[\"Id\", 'ActivityDate'], how='outer')\n",
    "to_model_data.head()\n",
    "\n",
    "\n",
    "#to_model_data = fitbit_analysis.join(sleep_data, on=['Id', 'ActivityDate'])\n",
    "#to_model_data = sleep_data.join( fitbit_analysis, on=['Id', 'ActivityDate'])"
   ]
  },
  {
   "cell_type": "code",
   "execution_count": 4,
   "metadata": {},
   "outputs": [
    {
     "data": {
      "text/plain": [
       "1400"
      ]
     },
     "execution_count": 4,
     "metadata": {},
     "output_type": "execute_result"
    }
   ],
   "source": [
    "len(to_model_data)"
   ]
  },
  {
   "cell_type": "code",
   "execution_count": 5,
   "metadata": {},
   "outputs": [
    {
     "data": {
      "text/plain": [
       "Index(['Id', 'ActivityDate', 'TotalSteps', 'TotalDistance', 'TrackerDistance',\n",
       "       'LoggedActivitiesDistance', 'VeryActiveDistance',\n",
       "       'ModeratelyActiveDistance', 'LightActiveDistance',\n",
       "       'SedentaryActiveDistance', 'VeryActiveMinutes', 'FairlyActiveMinutes',\n",
       "       'LightlyActiveMinutes', 'SedentaryMinutes', 'Calories',\n",
       "       'TotalTimeinBed', 'TotalMinutesAssleep', 'TotalSleepRecords',\n",
       "       'TotalMinutesAsleep', 'TotalTimeInBed'],\n",
       "      dtype='object')"
      ]
     },
     "execution_count": 5,
     "metadata": {},
     "output_type": "execute_result"
    }
   ],
   "source": [
    "to_model_data.columns"
   ]
  },
  {
   "cell_type": "code",
   "execution_count": 6,
   "metadata": {},
   "outputs": [],
   "source": [
    "to_model_data.to_csv('test.csv', index='false')"
   ]
  },
  {
   "cell_type": "code",
   "execution_count": 7,
   "metadata": {},
   "outputs": [],
   "source": [
    "data = to_model_data.drop(columns = ['TotalDistance', 'TotalTimeinBed', 'TotalMinutesAssleep', 'TotalSleepRecords', 'TotalMinutesAsleep', 'TotalTimeInBed'])"
   ]
  },
  {
   "cell_type": "code",
   "execution_count": 8,
   "metadata": {},
   "outputs": [
    {
     "data": {
      "text/plain": [
       "Index(['Id', 'ActivityDate', 'TotalSteps', 'TrackerDistance',\n",
       "       'LoggedActivitiesDistance', 'VeryActiveDistance',\n",
       "       'ModeratelyActiveDistance', 'LightActiveDistance',\n",
       "       'SedentaryActiveDistance', 'VeryActiveMinutes', 'FairlyActiveMinutes',\n",
       "       'LightlyActiveMinutes', 'SedentaryMinutes', 'Calories'],\n",
       "      dtype='object')"
      ]
     },
     "execution_count": 8,
     "metadata": {},
     "output_type": "execute_result"
    }
   ],
   "source": [
    "data.columns"
   ]
  },
  {
   "cell_type": "markdown",
   "metadata": {},
   "source": [
    "# Defining input (features) and output (calories)"
   ]
  },
  {
   "cell_type": "code",
   "execution_count": 9,
   "metadata": {},
   "outputs": [],
   "source": [
    "# X - features\n",
    "# y - output - calories\n",
    "X = data[['TotalSteps', 'TrackerDistance',\n",
    "       'LoggedActivitiesDistance', 'VeryActiveDistance',\n",
    "       'ModeratelyActiveDistance', 'LightActiveDistance',\n",
    "       'SedentaryActiveDistance', 'VeryActiveMinutes', 'FairlyActiveMinutes',\n",
    "       'LightlyActiveMinutes', 'SedentaryMinutes']]\n",
    "y = data[['Calories']]"
   ]
  },
  {
   "cell_type": "markdown",
   "metadata": {},
   "source": [
    "# Splitting into train and test sets"
   ]
  },
  {
   "cell_type": "code",
   "execution_count": 10,
   "metadata": {},
   "outputs": [],
   "source": [
    "\n",
    "X_train, X_test, y_train, y_test = train_test_split(X, y, test_size=0.20, random_state=42)"
   ]
  },
  {
   "cell_type": "markdown",
   "metadata": {},
   "source": [
    "# xgboost prep"
   ]
  },
  {
   "cell_type": "code",
   "execution_count": 11,
   "metadata": {},
   "outputs": [],
   "source": [
    "\n",
    "dtrain = xgb.DMatrix(X_train, label=y_train)\n",
    "dtest = xgb.DMatrix(X_test, label=y_test)\n",
    "\n",
    "# model pret\n",
    "param = {'n_estimators':10, 'max_depth':5, 'eta':0.1, 'objective':'reg:linear', 'nthread':4, 'eval_metric':'rmse'}\n",
    "evallist = [(dtest, 'eval'), (dtrain, 'train')]"
   ]
  },
  {
   "cell_type": "markdown",
   "metadata": {},
   "source": [
    "# train model"
   ]
  },
  {
   "cell_type": "code",
   "execution_count": 12,
   "metadata": {},
   "outputs": [
    {
     "name": "stdout",
     "output_type": "stream",
     "text": [
      "[0]\teval-rmse:2094.36\ttrain-rmse:2181.68\n",
      "[1]\teval-rmse:1897.37\ttrain-rmse:1977.39\n",
      "[2]\teval-rmse:1722.03\ttrain-rmse:1793.99\n",
      "[3]\teval-rmse:1565.8\ttrain-rmse:1629.62\n",
      "[4]\teval-rmse:1423.42\ttrain-rmse:1482.64\n",
      "[5]\teval-rmse:1296.75\ttrain-rmse:1351.13\n",
      "[6]\teval-rmse:1182.99\ttrain-rmse:1233.28\n",
      "[7]\teval-rmse:1080.28\ttrain-rmse:1128.58\n",
      "[8]\teval-rmse:990.871\ttrain-rmse:1035.02\n",
      "[9]\teval-rmse:911.492\ttrain-rmse:952.315\n",
      "[10]\teval-rmse:840.588\ttrain-rmse:878.594\n",
      "[11]\teval-rmse:778.839\ttrain-rmse:813.581\n",
      "[12]\teval-rmse:724.535\ttrain-rmse:756.27\n",
      "[13]\teval-rmse:676.482\ttrain-rmse:704.882\n",
      "[14]\teval-rmse:636.287\ttrain-rmse:658.089\n",
      "[15]\teval-rmse:600.433\ttrain-rmse:619.104\n",
      "[16]\teval-rmse:570.337\ttrain-rmse:584.004\n",
      "[17]\teval-rmse:542.695\ttrain-rmse:551.999\n",
      "[18]\teval-rmse:520.443\ttrain-rmse:524.344\n",
      "[19]\teval-rmse:501.675\ttrain-rmse:500.178\n",
      "[20]\teval-rmse:485.714\ttrain-rmse:479.987\n",
      "[21]\teval-rmse:470.568\ttrain-rmse:461.686\n",
      "[22]\teval-rmse:458.27\ttrain-rmse:446.555\n",
      "[23]\teval-rmse:447.09\ttrain-rmse:431.412\n",
      "[24]\teval-rmse:438.19\ttrain-rmse:419.964\n",
      "[25]\teval-rmse:431.293\ttrain-rmse:410.686\n",
      "[26]\teval-rmse:424.423\ttrain-rmse:401.56\n",
      "[27]\teval-rmse:420.2\ttrain-rmse:392.469\n",
      "[28]\teval-rmse:414.77\ttrain-rmse:385.543\n",
      "[29]\teval-rmse:411.202\ttrain-rmse:379.391\n",
      "[30]\teval-rmse:408.479\ttrain-rmse:374.205\n",
      "[31]\teval-rmse:406.127\ttrain-rmse:367.329\n",
      "[32]\teval-rmse:404.294\ttrain-rmse:363.955\n",
      "[33]\teval-rmse:402.69\ttrain-rmse:358.991\n",
      "[34]\teval-rmse:400.181\ttrain-rmse:354.062\n",
      "[35]\teval-rmse:397.971\ttrain-rmse:349.033\n",
      "[36]\teval-rmse:396.951\ttrain-rmse:346.896\n",
      "[37]\teval-rmse:395.097\ttrain-rmse:342.922\n",
      "[38]\teval-rmse:393.23\ttrain-rmse:338.79\n",
      "[39]\teval-rmse:392.6\ttrain-rmse:336.365\n",
      "[40]\teval-rmse:392.297\ttrain-rmse:333.403\n",
      "[41]\teval-rmse:392.008\ttrain-rmse:332.367\n",
      "[42]\teval-rmse:391.235\ttrain-rmse:329.149\n",
      "[43]\teval-rmse:390.828\ttrain-rmse:328.025\n",
      "[44]\teval-rmse:390.224\ttrain-rmse:327.067\n",
      "[45]\teval-rmse:389.608\ttrain-rmse:323.977\n",
      "[46]\teval-rmse:388.774\ttrain-rmse:320.403\n",
      "[47]\teval-rmse:387.975\ttrain-rmse:317.832\n",
      "[48]\teval-rmse:388.18\ttrain-rmse:317.32\n",
      "[49]\teval-rmse:387.845\ttrain-rmse:315.661\n",
      "[50]\teval-rmse:386.97\ttrain-rmse:314.102\n",
      "[51]\teval-rmse:385.389\ttrain-rmse:311.017\n",
      "[52]\teval-rmse:385.96\ttrain-rmse:309.096\n",
      "[53]\teval-rmse:385.465\ttrain-rmse:308.309\n",
      "[54]\teval-rmse:385.512\ttrain-rmse:307.431\n",
      "[55]\teval-rmse:385.04\ttrain-rmse:306.069\n",
      "[56]\teval-rmse:385.025\ttrain-rmse:305.569\n",
      "[57]\teval-rmse:384.458\ttrain-rmse:303.031\n",
      "[58]\teval-rmse:384.778\ttrain-rmse:302.151\n",
      "[59]\teval-rmse:383.659\ttrain-rmse:300.594\n",
      "[60]\teval-rmse:382.713\ttrain-rmse:298.523\n",
      "[61]\teval-rmse:382.975\ttrain-rmse:296.585\n",
      "[62]\teval-rmse:382.529\ttrain-rmse:295.543\n",
      "[63]\teval-rmse:382.098\ttrain-rmse:293.278\n",
      "[64]\teval-rmse:381.631\ttrain-rmse:291.824\n",
      "[65]\teval-rmse:381.495\ttrain-rmse:289.736\n",
      "[66]\teval-rmse:381.668\ttrain-rmse:289.241\n",
      "[67]\teval-rmse:381.513\ttrain-rmse:286.783\n",
      "[68]\teval-rmse:380.834\ttrain-rmse:285.157\n",
      "[69]\teval-rmse:380.745\ttrain-rmse:284.598\n",
      "[70]\teval-rmse:380.624\ttrain-rmse:284.229\n",
      "[71]\teval-rmse:380.276\ttrain-rmse:282.444\n",
      "[72]\teval-rmse:379.736\ttrain-rmse:281.314\n",
      "[73]\teval-rmse:379.814\ttrain-rmse:280.511\n",
      "[74]\teval-rmse:379.149\ttrain-rmse:279.457\n",
      "[75]\teval-rmse:379.293\ttrain-rmse:277.922\n",
      "[76]\teval-rmse:379.17\ttrain-rmse:276.695\n",
      "[77]\teval-rmse:379.235\ttrain-rmse:276.437\n",
      "[78]\teval-rmse:378.853\ttrain-rmse:275.499\n",
      "[79]\teval-rmse:378.774\ttrain-rmse:273.824\n",
      "[80]\teval-rmse:378.551\ttrain-rmse:273.066\n",
      "[81]\teval-rmse:378.447\ttrain-rmse:272.158\n",
      "[82]\teval-rmse:377.996\ttrain-rmse:270.876\n",
      "[83]\teval-rmse:378.079\ttrain-rmse:269.768\n",
      "[84]\teval-rmse:377.817\ttrain-rmse:268.995\n",
      "[85]\teval-rmse:377.88\ttrain-rmse:267.651\n",
      "[86]\teval-rmse:377.946\ttrain-rmse:266.705\n",
      "[87]\teval-rmse:377.606\ttrain-rmse:265.409\n",
      "[88]\teval-rmse:377.262\ttrain-rmse:264.042\n",
      "[89]\teval-rmse:377.538\ttrain-rmse:263.387\n",
      "[90]\teval-rmse:377.226\ttrain-rmse:262.121\n",
      "[91]\teval-rmse:376.932\ttrain-rmse:261.53\n",
      "[92]\teval-rmse:377.168\ttrain-rmse:260.617\n",
      "[93]\teval-rmse:376.825\ttrain-rmse:259.147\n",
      "[94]\teval-rmse:376.762\ttrain-rmse:257.964\n",
      "[95]\teval-rmse:376.939\ttrain-rmse:257.783\n",
      "[96]\teval-rmse:376.949\ttrain-rmse:256.93\n",
      "[97]\teval-rmse:376.428\ttrain-rmse:256.324\n",
      "[98]\teval-rmse:376.331\ttrain-rmse:255.288\n",
      "[99]\teval-rmse:375.996\ttrain-rmse:254.918\n"
     ]
    }
   ],
   "source": [
    "\n",
    "num_round = 100\n",
    "model = xgb.train(param, dtrain, num_round, evallist)\n",
    "model.save_model('calorie_predictor.model')"
   ]
  },
  {
   "cell_type": "markdown",
   "metadata": {},
   "source": [
    "# test"
   ]
  },
  {
   "cell_type": "code",
   "execution_count": 13,
   "metadata": {},
   "outputs": [],
   "source": [
    "\n",
    "y_train_pred = model.predict(dtrain)\n",
    "y_test_pred = model.predict(dtest)"
   ]
  },
  {
   "cell_type": "markdown",
   "metadata": {},
   "source": [
    "# Training RMSE"
   ]
  },
  {
   "cell_type": "code",
   "execution_count": 14,
   "metadata": {},
   "outputs": [
    {
     "name": "stdout",
     "output_type": "stream",
     "text": [
      "Training Root Mean Square Error (RMSE): 254.9184311609512\n"
     ]
    }
   ],
   "source": [
    "\n",
    "train_rmse = rmse(y_train.values, y_train_pred)\n",
    "print('Training Root Mean Square Error (RMSE): {}'.format(train_rmse))"
   ]
  },
  {
   "cell_type": "markdown",
   "metadata": {},
   "source": [
    "# Testing RMSE"
   ]
  },
  {
   "cell_type": "code",
   "execution_count": 15,
   "metadata": {},
   "outputs": [
    {
     "name": "stdout",
     "output_type": "stream",
     "text": [
      "Testing Root Mean Square Error (RMSE): 375.99567548714697\n"
     ]
    }
   ],
   "source": [
    "\n",
    "test_rmse = rmse(y_test.values, y_test_pred)\n",
    "print('Testing Root Mean Square Error (RMSE): {}'.format(test_rmse))"
   ]
  },
  {
   "cell_type": "markdown",
   "metadata": {},
   "source": [
    "# Training R2 score"
   ]
  },
  {
   "cell_type": "code",
   "execution_count": 16,
   "metadata": {},
   "outputs": [
    {
     "name": "stdout",
     "output_type": "stream",
     "text": [
      "Training R2 score: 0.8895153219587866\n"
     ]
    }
   ],
   "source": [
    "\n",
    "train_r2 = r2_score(y_train, y_train_pred)\n",
    "print('Training R2 score: {}'.format(train_r2))"
   ]
  },
  {
   "cell_type": "markdown",
   "metadata": {},
   "source": [
    "# Testing R2 Score"
   ]
  },
  {
   "cell_type": "code",
   "execution_count": 17,
   "metadata": {},
   "outputs": [
    {
     "name": "stdout",
     "output_type": "stream",
     "text": [
      "Training R2 score: 0.7106884015839826\n"
     ]
    }
   ],
   "source": [
    "# R2\n",
    "test_r2 = r2_score(y_test, y_test_pred)\n",
    "print('Training R2 score: {}'.format(test_r2))"
   ]
  },
  {
   "cell_type": "markdown",
   "metadata": {},
   "source": [
    "# loading model"
   ]
  },
  {
   "cell_type": "code",
   "execution_count": 18,
   "metadata": {},
   "outputs": [
    {
     "name": "stdout",
     "output_type": "stream",
     "text": [
      "Predicted calories for dummy input data:\n",
      "[2874.185]\n"
     ]
    }
   ],
   "source": [
    "\n",
    "mod = xgb.Booster({'nthread':4})\n",
    "mod.load_model('calorie_predictor.model')\n",
    "\n",
    "# creating dummy input features for testing\n",
    "\n",
    "# random features\n",
    "num_instances = 1\n",
    "num_features = np.shape(X_train)[1]\n",
    "#dummy = np.random.rand(num_instances, num_features)\n",
    "\n",
    "# user input features\n",
    "dummy = np.array([10, 11, 12, 13, 14, 15, 16, 17, 18, 19, 20])\n",
    "dummy = dummy[np.newaxis, :]\n",
    "\n",
    "\n",
    "dum = xgb.DMatrix(dummy)\n",
    "dum_predict = mod.predict(dum)\n",
    "print('Predicted calories for dummy input data:')\n",
    "print(dum_predict)\n"
   ]
  },
  {
   "cell_type": "code",
   "execution_count": 19,
   "metadata": {},
   "outputs": [
    {
     "data": {
      "text/plain": [
       "<matplotlib.axes._subplots.AxesSubplot at 0x19763d3d6d8>"
      ]
     },
     "execution_count": 19,
     "metadata": {},
     "output_type": "execute_result"
    },
    {
     "data": {
      "image/png": "[encoded data removed]",
      "text/plain": [
       "<Figure size 432x288 with 1 Axes>"
      ]
     },
     "metadata": {
      "needs_background": "light"
     },
     "output_type": "display_data"
    }
   ],
   "source": [
    "xgb.plot_importance(mod)"
   ]
  },
  {
   "cell_type": "code",
   "execution_count": 20,
   "metadata": {
    "scrolled": false
   },
   "outputs": [
    {
     "data": {
      "image/png": "[encoded data removed]",
      "text/plain": [
       "<Figure size 432x288 with 1 Axes>"
      ]
     },
     "metadata": {
      "needs_background": "light"
     },
     "output_type": "display_data"
    },
    {
     "data": {
      "image/png": "[encoded data removed]",
      "text/plain": [
       "<Figure size 432x288 with 1 Axes>"
      ]
     },
     "metadata": {
      "needs_background": "light"
     },
     "output_type": "display_data"
    },
    {
     "data": {
      "image/png": "[encoded data removed]",
      "text/plain": [
       "<Figure size 432x288 with 1 Axes>"
      ]
     },
     "metadata": {
      "needs_background": "light"
     },
     "output_type": "display_data"
    },
    {
     "data": {
      "image/png": "[encoded data removed]",
      "text/plain": [
       "<Figure size 432x288 with 1 Axes>"
      ]
     },
     "metadata": {
      "needs_background": "light"
     },
     "output_type": "display_data"
    },
    {
     "data": {
      "image/png": "[encoded data removed]",
      "text/plain": [
       "<Figure size 432x288 with 1 Axes>"
      ]
     },
     "metadata": {
      "needs_background": "light"
     },
     "output_type": "display_data"
    },
    {
     "data": {
      "image/png": "[encoded data removed]",
      "text/plain": [
       "<Figure size 432x288 with 1 Axes>"
      ]
     },
     "metadata": {
      "needs_background": "light"
     },
     "output_type": "display_data"
    },
    {
     "data": {
      "image/png": "[encoded data removed]",
      "text/plain": [
       "<Figure size 432x288 with 1 Axes>"
      ]
     },
     "metadata": {
      "needs_background": "light"
     },
     "output_type": "display_data"
    },
    {
     "data": {
      "image/png": "[encoded data removed]",
      "text/plain": [
       "<Figure size 432x288 with 1 Axes>"
      ]
     },
     "metadata": {
      "needs_background": "light"
     },
     "output_type": "display_data"
    },
    {
     "data": {
      "image/png": "[encoded data removed]",
      "text/plain": [
       "<Figure size 432x288 with 1 Axes>"
      ]
     },
     "metadata": {
      "needs_background": "light"
     },
     "output_type": "display_data"
    },
    {
     "data": {
      "image/png": "[encoded data removed]",
      "text/plain": [
       "<Figure size 432x288 with 1 Axes>"
      ]
     },
     "metadata": {
      "needs_background": "light"
     },
     "output_type": "display_data"
    }
   ],
   "source": [
    "for ii in range(param['n_estimators']):\n",
    "    ax = xgb.plot_tree(mod, num_trees=ii)\n",
    "    plt.savefig('tree_{}.png'.format(ii))\n",
    "    "
   ]
  },
  {
   "cell_type": "code",
   "execution_count": 25,
   "metadata": {},
   "outputs": [
    {
     "data": {
      "text/plain": [
       "'C:\\\\Users\\\\prasanna.jaiswal\\\\AppData\\\\Local\\\\Continuum\\\\anaconda3\\\\envs\\\\Firstclose\\\\Lib\\\\site-packages\\\\graphviz;C:\\\\Users\\\\prasanna.jaiswal\\\\AppData\\\\Local\\\\Continuum\\\\anaconda3\\\\envs\\\\firstclose;C:\\\\Users\\\\prasanna.jaiswal\\\\AppData\\\\Local\\\\Continuum\\\\anaconda3\\\\envs\\\\firstclose\\\\Library\\\\mingw-w64\\\\bin;C:\\\\Users\\\\prasanna.jaiswal\\\\AppData\\\\Local\\\\Continuum\\\\anaconda3\\\\envs\\\\firstclose\\\\Library\\\\usr\\\\bin;C:\\\\Users\\\\prasanna.jaiswal\\\\AppData\\\\Local\\\\Continuum\\\\anaconda3\\\\envs\\\\firstclose\\\\Library\\\\bin;C:\\\\Users\\\\prasanna.jaiswal\\\\AppData\\\\Local\\\\Continuum\\\\anaconda3\\\\envs\\\\firstclose\\\\Scripts;C:\\\\Users\\\\prasanna.jaiswal\\\\AppData\\\\Local\\\\Continuum\\\\anaconda3\\\\envs\\\\firstclose\\\\bin;C:\\\\Users\\\\prasanna.jaiswal\\\\AppData\\\\Local\\\\Continuum\\\\anaconda3\\\\condabin;C:\\\\Users\\\\prasanna.jaiswal\\\\bin;C:\\\\Program Files\\\\Git\\\\mingw64\\\\bin;C:\\\\Program Files\\\\Git\\\\usr\\\\local\\\\bin;C:\\\\Program Files\\\\Git\\\\usr\\\\bin;C:\\\\Program Files\\\\Git\\\\usr\\\\bin;C:\\\\Program Files\\\\Git\\\\mingw64\\\\bin;C:\\\\Program Files\\\\Git\\\\usr\\\\bin;C:\\\\Users\\\\prasanna.jaiswal\\\\bin;C:\\\\Program Files (x86)\\\\Common Files\\\\Oracle\\\\Java\\\\javapath;C:\\\\Program Files (x86)\\\\Intel\\\\Intel(R) Management Engine Components\\\\iCLS;C:\\\\Program Files\\\\Intel\\\\Intel(R) Management Engine Components\\\\iCLS;C:\\\\WINDOWS\\\\system32;C:\\\\WINDOWS;C:\\\\WINDOWS\\\\System32\\\\Wbem;C:\\\\WINDOWS\\\\System32\\\\WindowsPowerShell\\\\v1.0;C:\\\\Program Files (x86)\\\\Intel\\\\Intel(R) Management Engine Components\\\\DAL;C:\\\\Program Files\\\\Intel\\\\Intel(R) Management Engine Components\\\\DAL;C:\\\\Program Files (x86)\\\\Intel\\\\Intel(R) Management Engine Components\\\\IPT;C:\\\\Program Files\\\\Intel\\\\Intel(R) Management Engine Components\\\\IPT;C:\\\\Program Files\\\\Intel\\\\WiFi\\\\bin;C:\\\\Program Files\\\\Common Files\\\\Intel\\\\WirelessCommon;C:\\\\WINDOWS\\\\System32\\\\OpenSSH;C:\\\\Program Files (x86)\\\\Microsoft SQL Server\\\\Client SDK\\\\ODBC\\\\130\\\\Tools\\\\Binn;C:\\\\Program Files (x86)\\\\Microsoft SQL Server\\\\140\\\\Tools\\\\Binn;C:\\\\Program Files (x86)\\\\Microsoft SQL Server\\\\140\\\\DTS\\\\Binn;C:\\\\Program Files (x86)\\\\Microsoft SQL Server\\\\140\\\\Tools\\\\Binn\\\\ManagementStudio;C:\\\\Program Files (x86)\\\\Plantronics\\\\Spokes3G;C:\\\\Program Files\\\\dotnet;C:\\\\Program Files\\\\Microsoft SQL Server\\\\130\\\\Tools\\\\Binn;C:\\\\Program Files\\\\Git\\\\cmd;C:\\\\Users\\\\prasanna.jaiswal\\\\AppData\\\\Local\\\\Continuum\\\\anaconda3;C:\\\\Users\\\\prasanna.jaiswal\\\\AppData\\\\Local\\\\Continuum\\\\anaconda3\\\\Library\\\\mingw-w64\\\\bin;C:\\\\Users\\\\prasanna.jaiswal\\\\AppData\\\\Local\\\\Continuum\\\\anaconda3\\\\Library\\\\usr\\\\bin;C:\\\\Users\\\\prasanna.jaiswal\\\\AppData\\\\Local\\\\Continuum\\\\anaconda3\\\\Library\\\\bin;C:\\\\Users\\\\prasanna.jaiswal\\\\AppData\\\\Local\\\\Continuum\\\\anaconda3\\\\Scripts;C:\\\\Users\\\\prasanna.jaiswal\\\\AppData\\\\Local\\\\Programs\\\\Python\\\\Python37-32\\\\Scripts;C:\\\\Users\\\\prasanna.jaiswal\\\\AppData\\\\Local\\\\Programs\\\\Python\\\\Python37-32;C:\\\\Users\\\\prasanna.jaiswal\\\\AppData\\\\Local\\\\Microsoft\\\\WindowsApps;C:\\\\Users\\\\prasanna.jaiswal\\\\AppData\\\\Local\\\\atom\\\\bin;C:\\\\Program Files\\\\Git\\\\usr\\\\bin\\\\vendor_perl;C:\\\\Program Files\\\\Git\\\\usr\\\\bin\\\\core_perl;c:\\\\users\\\\prasanna.jaiswal\\\\appdata\\\\local\\\\continuum\\\\anaconda3\\\\envs\\\\firstclose\\\\lib\\\\site-packages\\\\scipy\\\\extra-dll;C:\\\\Users\\\\prasanna.jaiswal\\\\AppData\\\\Local\\\\Continuum\\\\anaconda3\\\\envs\\\\Firstclose\\\\Lib\\\\site-packages\\\\graphviz'"
      ]
     },
     "execution_count": 25,
     "metadata": {},
     "output_type": "execute_result"
    }
   ],
   "source": [
    "os.environ['PATH']"
   ]
  },
  {
   "cell_type": "code",
   "execution_count": 31,
   "metadata": {},
   "outputs": [
    {
     "name": "stderr",
     "output_type": "stream",
     "text": [
      "which: no dot.py in (/c/Users/prasanna.jaiswal/AppData/Local/Continuum/anaconda3/envs/Firstclose/Lib/site-packages/graphviz:/c/Users/prasanna.jaiswal/AppData/Local/Continuum/anaconda3/envs/firstclose:/c/Users/prasanna.jaiswal/AppData/Local/Continuum/anaconda3/envs/firstclose/Library/mingw-w64/bin:/c/Users/prasanna.jaiswal/AppData/Local/Continuum/anaconda3/envs/firstclose/Library/usr/bin:/c/Users/prasanna.jaiswal/AppData/Local/Continuum/anaconda3/envs/firstclose/Library/bin:/c/Users/prasanna.jaiswal/AppData/Local/Continuum/anaconda3/envs/firstclose/Scripts:/c/Users/prasanna.jaiswal/AppData/Local/Continuum/anaconda3/envs/firstclose/bin:/c/Users/prasanna.jaiswal/AppData/Local/Continuum/anaconda3/condabin:/c/Users/prasanna.jaiswal/bin:/mingw64/bin:/usr/local/bin:/usr/bin:/usr/bin:/mingw64/bin:/usr/bin:/c/Users/prasanna.jaiswal/bin:/c/Program Files (x86)/Common Files/Oracle/Java/javapath:/c/Program Files (x86)/Intel/Intel(R) Management Engine Components/iCLS:/c/Program Files/Intel/Intel(R) Management Engine Components/iCLS:/c/WINDOWS/system32:/c/WINDOWS:/c/WINDOWS/System32/Wbem:/c/WINDOWS/System32/WindowsPowerShell/v1.0:/c/Program Files (x86)/Intel/Intel(R) Management Engine Components/DAL:/c/Program Files/Intel/Intel(R) Management Engine Components/DAL:/c/Program Files (x86)/Intel/Intel(R) Management Engine Components/IPT:/c/Program Files/Intel/Intel(R) Management Engine Components/IPT:/c/Program Files/Intel/WiFi/bin:/c/Program Files/Common Files/Intel/WirelessCommon:/c/WINDOWS/System32/OpenSSH:/c/Program Files (x86)/Microsoft SQL Server/Client SDK/ODBC/130/Tools/Binn:/c/Program Files (x86)/Microsoft SQL Server/140/Tools/Binn:/c/Program Files (x86)/Microsoft SQL Server/140/DTS/Binn:/c/Program Files (x86)/Microsoft SQL Server/140/Tools/Binn/ManagementStudio:/c/Program Files (x86)/Plantronics/Spokes3G:/c/Program Files/dotnet:/c/Program Files/Microsoft SQL Server/130/Tools/Binn:/cmd:/c/Users/prasanna.jaiswal/AppData/Local/Continuum/anaconda3:/c/Users/prasanna.jaiswal/AppData/Local/Continuum/anaconda3/Library/mingw-w64/bin:/c/Users/prasanna.jaiswal/AppData/Local/Continuum/anaconda3/Library/usr/bin:/c/Users/prasanna.jaiswal/AppData/Local/Continuum/anaconda3/Library/bin:/c/Users/prasanna.jaiswal/AppData/Local/Continuum/anaconda3/Scripts:/c/Users/prasanna.jaiswal/AppData/Local/Programs/Python/Python37-32/Scripts:/c/Users/prasanna.jaiswal/AppData/Local/Programs/Python/Python37-32:/c/Users/prasanna.jaiswal/AppData/Local/Microsoft/WindowsApps:/c/Users/prasanna.jaiswal/AppData/Local/atom/bin:/usr/bin/vendor_perl:/usr/bin/core_perl:/c/users/prasanna.jaiswal/appdata/local/continuum/anaconda3/envs/firstclose/lib/site-packages/scipy/extra-dll:/c/Users/prasanna.jaiswal/AppData/Local/Continuum/anaconda3/envs/Firstclose/Lib/site-packages/graphviz)\n"
     ]
    }
   ],
   "source": [
    "!which dot.py"
   ]
  },
  {
   "cell_type": "code",
   "execution_count": 28,
   "metadata": {},
   "outputs": [],
   "source": [
    "os.chdir('C:\\\\Users\\\\prasanna.jaiswal\\\\AppData\\\\Local\\\\Continuum\\\\anaconda3\\\\envs\\\\Firstclose\\\\Lib\\\\site-packages\\\\graphviz')"
   ]
  },
  {
   "cell_type": "code",
   "execution_count": 32,
   "metadata": {},
   "outputs": [
    {
     "data": {
      "text/plain": [
       "['backend.py',\n",
       " 'dot.py',\n",
       " 'files.py',\n",
       " 'lang.py',\n",
       " 'tools.py',\n",
       " '_compat.py',\n",
       " '__init__.py',\n",
       " '__pycache__']"
      ]
     },
     "execution_count": 32,
     "metadata": {},
     "output_type": "execute_result"
    }
   ],
   "source": [
    "os.listdir()"
   ]
  },
  {
   "cell_type": "code",
   "execution_count": 21,
   "metadata": {},
   "outputs": [],
   "source": [
    "!explorer ."
   ]
  },
  {
   "cell_type": "code",
   "execution_count": null,
   "metadata": {},
   "outputs": [],
   "source": []
  }
 ],
 "metadata": {
  "kernelspec": {
   "display_name": "Python 3",
   "language": "python",
   "name": "python3"
  },
  "language_info": {
   "codemirror_mode": {
    "name": "ipython",
    "version": 3
   },
   "file_extension": ".py",
   "mimetype": "text/x-python",
   "name": "python",
   "nbconvert_exporter": "python",
   "pygments_lexer": "ipython3",
   "version": "3.7.2"
  }
 },
 "nbformat": 4,
 "nbformat_minor": 2
}
